{
  "nbformat": 4,
  "nbformat_minor": 0,
  "metadata": {
    "anaconda-cloud": {},
    "kernelspec": {
      "display_name": "Python 3",
      "language": "python",
      "name": "python3"
    },
    "language_info": {
      "codemirror_mode": {
        "name": "ipython",
        "version": 3
      },
      "file_extension": ".py",
      "mimetype": "text/x-python",
      "name": "python",
      "nbconvert_exporter": "python",
      "pygments_lexer": "ipython3",
      "version": "3.7.3"
    },
    "colab": {
      "name": "02 - Supervised Learning.ipynb",
      "provenance": []
    }
  },
  "cells": [
    {
      "cell_type": "markdown",
      "metadata": {
        "id": "FF-vgNpV8sp2",
        "colab_type": "text"
      },
      "source": [
        "# Introduction to Scikit-learn"
      ]
    },
    {
      "cell_type": "code",
      "metadata": {
        "id": "Dt6DugoF8sp5",
        "colab_type": "code",
        "colab": {}
      },
      "source": [
        "import matplotlib.pyplot as plt\n",
        "import numpy as np\n",
        "import sklearn\n",
        "sklearn.set_config(print_changed_only=True)"
      ],
      "execution_count": 0,
      "outputs": []
    },
    {
      "cell_type": "code",
      "metadata": {
        "id": "cKwD_CX88sqD",
        "colab_type": "code",
        "colab": {}
      },
      "source": [
        "from sklearn.datasets import fetch_openml\n",
        "from sklearn.model_selection import train_test_split\n",
        "blood = fetch_openml('blood-transfusion-service-center')\n",
        "\n",
        "X_train, X_test, y_train, y_test = train_test_split(\n",
        "    blood.data, blood.target, random_state=0)"
      ],
      "execution_count": 0,
      "outputs": []
    },
    {
      "cell_type": "code",
      "metadata": {
        "id": "VzRF8wi48sqK",
        "colab_type": "code",
        "colab": {
          "base_uri": "https://localhost:8080/",
          "height": 34
        },
        "outputId": "960ec77d-7148-400d-ca7e-4601d43f88dd"
      },
      "source": [
        "X_train.shape"
      ],
      "execution_count": 30,
      "outputs": [
        {
          "output_type": "execute_result",
          "data": {
            "text/plain": [
              "(561, 4)"
            ]
          },
          "metadata": {
            "tags": []
          },
          "execution_count": 30
        }
      ]
    },
    {
      "cell_type": "code",
      "metadata": {
        "id": "njE4WXZ88sqQ",
        "colab_type": "code",
        "colab": {
          "base_uri": "https://localhost:8080/",
          "height": 68
        },
        "outputId": "7511f1e4-3b6a-4589-a0ea-1b5f93bd1181"
      },
      "source": [
        "import pandas as pd\n",
        "pd.Series(y_train).value_counts()"
      ],
      "execution_count": 31,
      "outputs": [
        {
          "output_type": "execute_result",
          "data": {
            "text/plain": [
              "1    438\n",
              "2    123\n",
              "dtype: int64"
            ]
          },
          "metadata": {
            "tags": []
          },
          "execution_count": 31
        }
      ]
    },
    {
      "cell_type": "code",
      "metadata": {
        "id": "Y9Yp_4hP8sqU",
        "colab_type": "code",
        "colab": {
          "base_uri": "https://localhost:8080/",
          "height": 68
        },
        "outputId": "222987e2-0eed-49d8-ac78-5ea90d871cdf"
      },
      "source": [
        "pd.Series(y_train).value_counts() / len(y_train)\n",
        "#problem with using accuracy"
      ],
      "execution_count": 32,
      "outputs": [
        {
          "output_type": "execute_result",
          "data": {
            "text/plain": [
              "1    0.780749\n",
              "2    0.219251\n",
              "dtype: float64"
            ]
          },
          "metadata": {
            "tags": []
          },
          "execution_count": 32
        }
      ]
    },
    {
      "cell_type": "markdown",
      "metadata": {
        "id": "v7pKHgey8sqY",
        "colab_type": "text"
      },
      "source": [
        "Really Simple API\n",
        "-------------------\n",
        "0) Import your model class"
      ]
    },
    {
      "cell_type": "code",
      "metadata": {
        "id": "57dOhFyt8sqY",
        "colab_type": "code",
        "colab": {}
      },
      "source": [
        "from sklearn.svm import LinearSVC"
      ],
      "execution_count": 0,
      "outputs": []
    },
    {
      "cell_type": "markdown",
      "metadata": {
        "id": "ZnXtp95I8sqb",
        "colab_type": "text"
      },
      "source": [
        "1) Instantiate an object and set the parameters"
      ]
    },
    {
      "cell_type": "code",
      "metadata": {
        "id": "qdfo3cfc8sqb",
        "colab_type": "code",
        "colab": {}
      },
      "source": [
        "svm = LinearSVC()"
      ],
      "execution_count": 0,
      "outputs": []
    },
    {
      "cell_type": "markdown",
      "metadata": {
        "id": "-jBeGylv8sqe",
        "colab_type": "text"
      },
      "source": [
        "2) Fit the model"
      ]
    },
    {
      "cell_type": "code",
      "metadata": {
        "id": "f5rEKvPf8sqe",
        "colab_type": "code",
        "colab": {
          "base_uri": "https://localhost:8080/",
          "height": 68
        },
        "outputId": "5d5b636b-f777-46da-9750-9a6323307e89"
      },
      "source": [
        "svm.fit(X_train, y_train)"
      ],
      "execution_count": 35,
      "outputs": [
        {
          "output_type": "stream",
          "text": [
            "/usr/local/lib/python3.6/dist-packages/sklearn/svm/_base.py:947: ConvergenceWarning: Liblinear failed to converge, increase the number of iterations.\n",
            "  \"the number of iterations.\", ConvergenceWarning)\n"
          ],
          "name": "stderr"
        },
        {
          "output_type": "execute_result",
          "data": {
            "text/plain": [
              "LinearSVC()"
            ]
          },
          "metadata": {
            "tags": []
          },
          "execution_count": 35
        }
      ]
    },
    {
      "cell_type": "markdown",
      "metadata": {
        "id": "XzkCiIJq8sqh",
        "colab_type": "text"
      },
      "source": [
        "3) Apply / evaluate"
      ]
    },
    {
      "cell_type": "code",
      "metadata": {
        "id": "AC_zRIsJ8sqi",
        "colab_type": "code",
        "colab": {
          "base_uri": "https://localhost:8080/",
          "height": 1000
        },
        "outputId": "fd14afd5-2584-41f7-f316-8a7a8c1326d4"
      },
      "source": [
        "print(svm.predict(X_train))\n",
        "print(y_train)"
      ],
      "execution_count": 36,
      "outputs": [
        {
          "output_type": "stream",
          "text": [
            "['1' '1' '1' '1' '1' '1' '1' '1' '1' '1' '1' '1' '1' '1' '1' '1' '1' '1'\n",
            " '1' '1' '1' '1' '1' '1' '1' '1' '1' '1' '1' '1' '1' '1' '1' '1' '1' '1'\n",
            " '1' '1' '1' '1' '1' '1' '1' '1' '1' '1' '1' '1' '1' '1' '1' '1' '1' '1'\n",
            " '1' '1' '1' '1' '1' '1' '1' '1' '1' '1' '1' '1' '1' '1' '1' '1' '1' '1'\n",
            " '1' '1' '1' '1' '1' '1' '1' '1' '1' '1' '1' '1' '1' '1' '1' '1' '1' '1'\n",
            " '1' '1' '1' '1' '1' '1' '1' '1' '1' '1' '1' '1' '1' '1' '1' '1' '1' '1'\n",
            " '1' '1' '1' '1' '1' '1' '1' '1' '1' '1' '1' '1' '1' '1' '1' '1' '1' '1'\n",
            " '1' '1' '1' '1' '1' '1' '1' '1' '1' '1' '1' '1' '1' '1' '1' '1' '1' '1'\n",
            " '1' '1' '1' '1' '1' '1' '1' '1' '1' '1' '1' '1' '1' '1' '1' '1' '1' '1'\n",
            " '1' '1' '1' '1' '1' '1' '1' '1' '1' '1' '1' '1' '1' '1' '1' '1' '1' '1'\n",
            " '1' '1' '1' '1' '1' '1' '1' '1' '1' '1' '1' '1' '1' '1' '1' '1' '1' '1'\n",
            " '1' '1' '1' '1' '1' '1' '1' '1' '1' '1' '1' '1' '1' '1' '1' '1' '1' '1'\n",
            " '1' '1' '1' '1' '1' '1' '1' '1' '1' '1' '1' '1' '1' '1' '1' '1' '1' '1'\n",
            " '1' '1' '1' '1' '1' '1' '1' '1' '1' '1' '1' '1' '1' '1' '1' '1' '1' '1'\n",
            " '1' '1' '1' '1' '1' '1' '1' '1' '1' '1' '1' '1' '1' '1' '1' '1' '1' '1'\n",
            " '1' '1' '1' '1' '1' '1' '1' '1' '1' '1' '1' '1' '1' '1' '1' '1' '1' '1'\n",
            " '1' '1' '1' '1' '1' '1' '1' '1' '1' '1' '1' '1' '1' '1' '1' '1' '1' '1'\n",
            " '1' '1' '1' '1' '1' '1' '1' '1' '1' '1' '1' '1' '1' '1' '1' '1' '1' '1'\n",
            " '1' '1' '1' '1' '1' '1' '1' '1' '1' '1' '1' '1' '1' '1' '1' '1' '1' '1'\n",
            " '1' '1' '1' '1' '1' '1' '1' '1' '1' '1' '1' '1' '1' '1' '1' '1' '1' '1'\n",
            " '1' '1' '1' '1' '1' '1' '1' '1' '1' '1' '1' '1' '1' '1' '1' '1' '1' '1'\n",
            " '1' '1' '1' '1' '1' '1' '1' '1' '1' '1' '1' '1' '1' '1' '1' '1' '1' '1'\n",
            " '1' '1' '1' '1' '1' '1' '1' '1' '1' '1' '1' '1' '1' '1' '1' '1' '1' '1'\n",
            " '1' '1' '1' '1' '1' '1' '1' '1' '1' '1' '1' '1' '1' '1' '1' '1' '1' '1'\n",
            " '1' '1' '1' '1' '1' '1' '1' '1' '1' '1' '1' '1' '1' '1' '1' '1' '1' '1'\n",
            " '1' '1' '1' '1' '1' '1' '1' '1' '1' '1' '1' '1' '1' '1' '1' '1' '1' '1'\n",
            " '1' '1' '1' '1' '1' '1' '1' '1' '1' '1' '1' '1' '1' '1' '1' '1' '1' '1'\n",
            " '1' '1' '1' '1' '1' '1' '1' '1' '1' '1' '1' '1' '1' '1' '1' '1' '1' '1'\n",
            " '1' '1' '1' '1' '1' '1' '1' '1' '1' '1' '1' '1' '1' '1' '1' '1' '1' '1'\n",
            " '1' '1' '1' '1' '1' '1' '1' '1' '1' '1' '1' '1' '1' '1' '1' '1' '1' '1'\n",
            " '1' '1' '1' '1' '1' '1' '1' '1' '1' '1' '1' '1' '1' '1' '1' '1' '1' '1'\n",
            " '1' '1' '1']\n",
            "['1' '1' '1' '1' '1' '1' '1' '1' '1' '2' '1' '2' '1' '1' '1' '1' '1' '1'\n",
            " '1' '1' '1' '2' '1' '1' '1' '1' '2' '1' '1' '2' '1' '1' '1' '1' '1' '2'\n",
            " '1' '1' '2' '1' '1' '2' '1' '1' '1' '1' '1' '2' '1' '2' '1' '1' '1' '1'\n",
            " '2' '2' '1' '1' '1' '1' '1' '1' '1' '2' '1' '2' '1' '1' '1' '2' '1' '1'\n",
            " '1' '1' '1' '1' '2' '1' '1' '1' '1' '1' '1' '1' '1' '1' '1' '1' '1' '1'\n",
            " '1' '1' '1' '2' '1' '1' '1' '1' '1' '1' '1' '1' '2' '1' '1' '2' '1' '1'\n",
            " '1' '1' '1' '1' '1' '1' '1' '1' '1' '1' '1' '1' '1' '1' '1' '1' '1' '2'\n",
            " '1' '1' '2' '1' '1' '2' '1' '2' '1' '1' '1' '1' '1' '1' '1' '1' '1' '2'\n",
            " '2' '1' '1' '2' '1' '2' '1' '1' '1' '1' '1' '1' '1' '1' '2' '1' '1' '2'\n",
            " '1' '1' '2' '1' '1' '1' '1' '1' '1' '1' '1' '2' '1' '1' '1' '1' '2' '2'\n",
            " '1' '1' '1' '2' '1' '1' '1' '1' '1' '2' '1' '1' '1' '1' '1' '2' '1' '1'\n",
            " '1' '1' '1' '2' '1' '2' '2' '1' '1' '1' '1' '2' '1' '1' '1' '1' '2' '1'\n",
            " '1' '2' '1' '1' '1' '1' '1' '2' '2' '2' '1' '1' '1' '1' '1' '1' '2' '1'\n",
            " '1' '1' '1' '1' '2' '1' '1' '1' '1' '1' '1' '1' '1' '2' '1' '1' '1' '1'\n",
            " '1' '1' '2' '1' '1' '1' '1' '1' '1' '2' '1' '1' '1' '1' '1' '1' '1' '1'\n",
            " '1' '1' '1' '1' '1' '2' '1' '2' '1' '2' '1' '1' '2' '1' '2' '2' '1' '1'\n",
            " '1' '1' '1' '1' '1' '2' '1' '1' '1' '1' '1' '1' '1' '1' '1' '1' '1' '1'\n",
            " '1' '1' '2' '1' '2' '1' '2' '2' '1' '1' '2' '1' '2' '2' '2' '1' '1' '1'\n",
            " '2' '2' '1' '2' '1' '1' '2' '1' '1' '2' '1' '2' '1' '1' '1' '1' '1' '1'\n",
            " '1' '2' '1' '1' '1' '1' '2' '2' '1' '1' '1' '2' '1' '2' '1' '2' '1' '1'\n",
            " '1' '1' '1' '1' '1' '1' '1' '1' '1' '1' '1' '1' '2' '2' '1' '1' '1' '1'\n",
            " '1' '1' '1' '1' '1' '1' '1' '1' '2' '1' '1' '1' '1' '1' '2' '1' '1' '2'\n",
            " '1' '2' '1' '1' '2' '1' '1' '1' '1' '1' '1' '2' '1' '1' '1' '1' '1' '1'\n",
            " '1' '2' '1' '1' '1' '1' '1' '2' '2' '1' '1' '1' '1' '1' '1' '1' '1' '2'\n",
            " '1' '1' '1' '1' '1' '1' '1' '1' '2' '2' '1' '1' '1' '1' '2' '1' '1' '1'\n",
            " '2' '1' '2' '1' '2' '2' '2' '1' '1' '2' '1' '1' '2' '1' '1' '1' '1' '1'\n",
            " '1' '1' '1' '1' '1' '1' '1' '1' '1' '2' '2' '2' '1' '1' '1' '1' '2' '1'\n",
            " '1' '1' '1' '1' '2' '1' '1' '1' '1' '1' '1' '1' '2' '1' '2' '2' '1' '1'\n",
            " '1' '2' '1' '1' '2' '1' '1' '1' '1' '1' '2' '2' '1' '1' '2' '1' '1' '1'\n",
            " '2' '1' '2' '1' '2' '2' '1' '1' '1' '2' '2' '1' '1' '1' '1' '2' '2' '1'\n",
            " '1' '1' '1' '2' '1' '1' '1' '2' '1' '1' '1' '1' '1' '1' '2' '1' '1' '1'\n",
            " '1' '1' '1']\n"
          ],
          "name": "stdout"
        }
      ]
    },
    {
      "cell_type": "code",
      "metadata": {
        "id": "LBPxMLpI8sqk",
        "colab_type": "code",
        "colab": {
          "base_uri": "https://localhost:8080/",
          "height": 34
        },
        "outputId": "bb5386f9-d394-4f27-e6ae-926a193a557c"
      },
      "source": [
        "svm.score(X_train, y_train)"
      ],
      "execution_count": 37,
      "outputs": [
        {
          "output_type": "execute_result",
          "data": {
            "text/plain": [
              "0.7807486631016043"
            ]
          },
          "metadata": {
            "tags": []
          },
          "execution_count": 37
        }
      ]
    },
    {
      "cell_type": "code",
      "metadata": {
        "id": "jPZQoNst8sqm",
        "colab_type": "code",
        "colab": {
          "base_uri": "https://localhost:8080/",
          "height": 34
        },
        "outputId": "368d5654-eab8-422f-836d-408b6ebc6ac9"
      },
      "source": [
        "svm.score(X_test, y_test)"
      ],
      "execution_count": 38,
      "outputs": [
        {
          "output_type": "execute_result",
          "data": {
            "text/plain": [
              "0.7058823529411765"
            ]
          },
          "metadata": {
            "tags": []
          },
          "execution_count": 38
        }
      ]
    },
    {
      "cell_type": "markdown",
      "metadata": {
        "id": "i5phHdWU8sqo",
        "colab_type": "text"
      },
      "source": [
        "And again\n",
        "---------"
      ]
    },
    {
      "cell_type": "code",
      "metadata": {
        "id": "5jIFvKxj8sqp",
        "colab_type": "code",
        "colab": {}
      },
      "source": [
        "from sklearn.ensemble import RandomForestClassifier"
      ],
      "execution_count": 0,
      "outputs": []
    },
    {
      "cell_type": "code",
      "metadata": {
        "id": "o5lA-rkt8sqr",
        "colab_type": "code",
        "colab": {}
      },
      "source": [
        "rf = RandomForestClassifier()"
      ],
      "execution_count": 0,
      "outputs": []
    },
    {
      "cell_type": "code",
      "metadata": {
        "id": "3WIBp4yc8sqs",
        "colab_type": "code",
        "colab": {
          "base_uri": "https://localhost:8080/",
          "height": 34
        },
        "outputId": "7b630f12-7786-479c-c75e-ef9cb8809ddf"
      },
      "source": [
        "rf.fit(X_train, y_train)"
      ],
      "execution_count": 41,
      "outputs": [
        {
          "output_type": "execute_result",
          "data": {
            "text/plain": [
              "RandomForestClassifier()"
            ]
          },
          "metadata": {
            "tags": []
          },
          "execution_count": 41
        }
      ]
    },
    {
      "cell_type": "code",
      "metadata": {
        "id": "6QGT6xDt8squ",
        "colab_type": "code",
        "colab": {
          "base_uri": "https://localhost:8080/",
          "height": 34
        },
        "outputId": "8a345755-ae22-430a-cebf-088b2260e941"
      },
      "source": [
        "rf.score(X_train, y_train)"
      ],
      "execution_count": 42,
      "outputs": [
        {
          "output_type": "execute_result",
          "data": {
            "text/plain": [
              "0.9411764705882353"
            ]
          },
          "metadata": {
            "tags": []
          },
          "execution_count": 42
        }
      ]
    },
    {
      "cell_type": "code",
      "metadata": {
        "id": "lE4jrmsc8sqx",
        "colab_type": "code",
        "colab": {
          "base_uri": "https://localhost:8080/",
          "height": 34
        },
        "outputId": "60ed49e5-aae1-431f-e5ca-c43fe04f5df5"
      },
      "source": [
        "rf.score(X_test, y_test)"
      ],
      "execution_count": 43,
      "outputs": [
        {
          "output_type": "execute_result",
          "data": {
            "text/plain": [
              "0.7112299465240641"
            ]
          },
          "metadata": {
            "tags": []
          },
          "execution_count": 43
        }
      ]
    },
    {
      "cell_type": "markdown",
      "metadata": {
        "id": "dAnlEBk68sq0",
        "colab_type": "text"
      },
      "source": [
        "# Exercises\n",
        "\n",
        "## Exercise 1\n",
        "Load the iris dataset from the ``sklearn.datasets`` module using the ``load_iris`` function.\n",
        "\n",
        "Split it into training and test set using ``train_test_split``.\n",
        "\n",
        "## Exercise 2\n",
        "Then train an evaluate ``sklearn.neighbors.KNeighborsClassifier``, the RandomForestClassifier and  ``sklearn.linear_model.LogisticRegression`` on the iris dataset.\n",
        "How do these perform on the training set vs the test set? Which one is the best on the training set, which one is the best on the test set?\n",
        "\n",
        "## Exercise 3 (extra)\n",
        "Can you construct a binary classification dataset (using np.random for example) on which ``sklearn.linear_model.LogisticRegression`` achieves an accuracy of 1? Can you construct a binary classification dataset on which it achieves accuracy 0.5?"
      ]
    },
    {
      "cell_type": "code",
      "metadata": {
        "id": "33JFzOZa8sq0",
        "colab_type": "code",
        "colab": {}
      },
      "source": [
        "from sklearn.datasets import load_iris\n",
        "from sklearn.neighbors import KNeighborsClassifier\n",
        "from sklearn.model_selection import train_test_split\n",
        "# Exercise 1, loading data\n",
        "iris = load_iris()\n",
        "X, y = iris.data, iris.target\n",
        "\n",
        "X_train, X_test, y_train, y_test = train_test_split(X, y)\n"
      ],
      "execution_count": 0,
      "outputs": []
    },
    {
      "cell_type": "code",
      "metadata": {
        "id": "5NL9rM5j-N93",
        "colab_type": "code",
        "colab": {
          "base_uri": "https://localhost:8080/",
          "height": 51
        },
        "outputId": "f60add6e-8685-46ba-9b76-05b6e756a25c"
      },
      "source": [
        "\n",
        "# Exercise 2\n",
        "# Training KNN\n",
        "knn = KNeighborsClassifier(n_neighbors=3)\n",
        "knn.fit(X_train, y_train)\n",
        "\n",
        "print(\"test set score of knn: %f\" % knn.score(X_test, y_test))\n",
        "\n",
        "# Training RandomForest\n",
        "rf = RandomForestClassifier()\n",
        "rf.fit(X_train, y_train)\n",
        "rf.score(X_train, y_train)\n",
        "rf.score(X_test, y_test)\n",
        "\n"
      ],
      "execution_count": 45,
      "outputs": [
        {
          "output_type": "stream",
          "text": [
            "test set score of knn: 1.000000\n"
          ],
          "name": "stdout"
        },
        {
          "output_type": "execute_result",
          "data": {
            "text/plain": [
              "0.9736842105263158"
            ]
          },
          "metadata": {
            "tags": []
          },
          "execution_count": 45
        }
      ]
    },
    {
      "cell_type": "code",
      "metadata": {
        "id": "2xOA5C2w-OLA",
        "colab_type": "code",
        "colab": {
          "base_uri": "https://localhost:8080/",
          "height": 51
        },
        "outputId": "959d314a-3a6a-4a85-cb84-6c264e98b5a2"
      },
      "source": [
        "# Exercise 3\n",
        "\n",
        "# Perfect classification (accuracy=1) on easy dataset\n",
        "from sklearn.linear_model import LogisticRegression\n",
        "X = np.random.uniform(size=(1000, 3))\n",
        "X[::2] += 1000\n",
        "y = X[:, 0] > 500\n",
        "X_train, X_test, y_train, y_test = train_test_split(X, y)\n",
        "logreg = LogisticRegression()\n",
        "logreg.fit(X_train, y_train)\n",
        "print(\"score on trivial data: \", logreg.score(X_test, y_test))\n",
        "\n",
        "# Random classification (accuracy=.5) on random data\n",
        "y = np.random.normal(size=1000) > .0\n",
        "X_train, X_test, y_train, y_test = train_test_split(X, y)\n",
        "logreg = LogisticRegression()\n",
        "logreg.fit(X_train, y_train)\n",
        "print(\"score on random data: \", logreg.score(X_test, y_test))"
      ],
      "execution_count": 46,
      "outputs": [
        {
          "output_type": "stream",
          "text": [
            "score on trivial data:  1.0\n",
            "score on random data:  0.528\n"
          ],
          "name": "stdout"
        }
      ]
    }
  ]
}