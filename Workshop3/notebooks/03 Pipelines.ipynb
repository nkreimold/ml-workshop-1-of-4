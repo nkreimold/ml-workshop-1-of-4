{
 "cells": [
  {
   "cell_type": "code",
   "execution_count": 1,
   "metadata": {
    "hide_input": false
   },
   "outputs": [],
   "source": [
    "import numpy as np\n",
    "import matplotlib.pyplot as plt\n",
    "import pandas as pd\n",
    "import warnings\n",
    "warnings.filterwarnings('ignore', category=DeprecationWarning)\n",
    "warnings.filterwarnings('ignore', category=FutureWarning)\n",
    "import sklearn\n",
    "sklearn.set_config(print_changed_only=True)"
   ]
  },
  {
   "cell_type": "markdown",
   "metadata": {},
   "source": [
    "# Algorithm Chains and Pipelines"
   ]
  },
  {
   "cell_type": "code",
   "execution_count": 2,
   "metadata": {},
   "outputs": [
    {
     "data": {
      "text/plain": [
       "0.972027972027972"
      ]
     },
     "execution_count": 2,
     "metadata": {},
     "output_type": "execute_result"
    }
   ],
   "source": [
    "from sklearn.svm import SVC\n",
    "from sklearn.datasets import load_breast_cancer\n",
    "from sklearn.model_selection import train_test_split\n",
    "from sklearn.preprocessing import MinMaxScaler\n",
    "\n",
    "# load and split the data\n",
    "cancer = load_breast_cancer()\n",
    "X_train, X_test, y_train, y_test = train_test_split(\n",
    "    cancer.data, cancer.target, random_state=0)\n",
    "\n",
    "# compute minimum and maximum on the training data\n",
    "scaler = MinMaxScaler().fit(X_train)\n",
    "# rescale training data\n",
    "X_train_scaled = scaler.transform(X_train)\n",
    "\n",
    "svm = SVC()\n",
    "# learn an SVM on the scaled training data\n",
    "svm.fit(X_train_scaled, y_train)\n",
    "# scale test data and score the scaled data\n",
    "X_test_scaled = scaler.transform(X_test)\n",
    "svm.score(X_test_scaled, y_test)"
   ]
  },
  {
   "cell_type": "markdown",
   "metadata": {},
   "source": [
    "### Building Pipelines"
   ]
  },
  {
   "cell_type": "code",
   "execution_count": 3,
   "metadata": {},
   "outputs": [],
   "source": [
    "from sklearn.pipeline import Pipeline\n",
    "pipe = Pipeline([(\"scaler\", MinMaxScaler()), (\"svm\", SVC())])"
   ]
  },
  {
   "cell_type": "code",
   "execution_count": 4,
   "metadata": {},
   "outputs": [
    {
     "data": {
      "text/plain": [
       "Pipeline(steps=[('scaler', MinMaxScaler()), ('svm', SVC())])"
      ]
     },
     "execution_count": 4,
     "metadata": {},
     "output_type": "execute_result"
    }
   ],
   "source": [
    "pipe.fit(X_train, y_train)"
   ]
  },
  {
   "cell_type": "code",
   "execution_count": 5,
   "metadata": {},
   "outputs": [
    {
     "data": {
      "text/plain": [
       "0.972027972027972"
      ]
     },
     "execution_count": 5,
     "metadata": {},
     "output_type": "execute_result"
    }
   ],
   "source": [
    "pipe.score(X_test, y_test)"
   ]
  },
  {
   "cell_type": "markdown",
   "metadata": {},
   "source": [
    "### Using Pipelines in Grid-searches"
   ]
  },
  {
   "cell_type": "code",
   "execution_count": 6,
   "metadata": {},
   "outputs": [],
   "source": [
    "param_grid = {'svm__C': [0.001, 0.01, 0.1, 1, 10, 100],\n",
    "              'svm__gamma': [0.001, 0.01, 0.1, 1, 10, 100]}"
   ]
  },
  {
   "cell_type": "code",
   "execution_count": 7,
   "metadata": {},
   "outputs": [
    {
     "name": "stdout",
     "output_type": "stream",
     "text": [
      "best cross-validation accuracy: 0.9812311901504789\n",
      "test set score:  0.972027972027972\n",
      "best parameters:  {'svm__C': 1, 'svm__gamma': 1}\n"
     ]
    }
   ],
   "source": [
    "from sklearn.model_selection import GridSearchCV\n",
    "grid = GridSearchCV(pipe, param_grid=param_grid)\n",
    "grid.fit(X_train, y_train)\n",
    "print(\"best cross-validation accuracy:\", grid.best_score_)\n",
    "print(\"test set score: \", grid.score(X_test, y_test))\n",
    "print(\"best parameters: \", grid.best_params_)"
   ]
  },
  {
   "cell_type": "markdown",
   "metadata": {},
   "source": [
    "# Not using Pipelines vs feature selection"
   ]
  },
  {
   "cell_type": "code",
   "execution_count": 8,
   "metadata": {},
   "outputs": [],
   "source": [
    "rnd = np.random.RandomState(seed=0)\n",
    "X = rnd.normal(size=(100, 10000))\n",
    "y = rnd.normal(size=(100,))"
   ]
  },
  {
   "cell_type": "code",
   "execution_count": 9,
   "metadata": {},
   "outputs": [
    {
     "name": "stdout",
     "output_type": "stream",
     "text": [
      "(100, 500)\n"
     ]
    }
   ],
   "source": [
    "from sklearn.feature_selection import SelectPercentile, f_regression\n",
    "\n",
    "select = SelectPercentile(score_func=f_regression,\n",
    "                          percentile=5)\n",
    "select.fit(X, y)\n",
    "X_selected = select.transform(X)\n",
    "print(X_selected.shape)"
   ]
  },
  {
   "cell_type": "code",
   "execution_count": 10,
   "metadata": {},
   "outputs": [
    {
     "data": {
      "text/plain": [
       "0.9057953065239822"
      ]
     },
     "execution_count": 10,
     "metadata": {},
     "output_type": "execute_result"
    }
   ],
   "source": [
    "from sklearn.model_selection import cross_val_score\n",
    "from sklearn.linear_model import Ridge\n",
    "np.mean(cross_val_score(Ridge(), X_selected, y))"
   ]
  },
  {
   "cell_type": "code",
   "execution_count": 11,
   "metadata": {},
   "outputs": [
    {
     "data": {
      "text/plain": [
       "-0.2465542238495281"
      ]
     },
     "execution_count": 11,
     "metadata": {},
     "output_type": "execute_result"
    }
   ],
   "source": [
    "#have to use pipeline becuase need to feature select in pipeline\n",
    "\n",
    "pipe = Pipeline([(\"select\", SelectPercentile(score_func=f_regression, percentile=5)),\n",
    "                 (\"ridge\", Ridge())])\n",
    "np.mean(cross_val_score(pipe, X, y))"
   ]
  },
  {
   "cell_type": "markdown",
   "metadata": {},
   "source": [
    "### The General Pipeline Interface"
   ]
  },
  {
   "cell_type": "code",
   "execution_count": 12,
   "metadata": {},
   "outputs": [],
   "source": [
    "def fit(self, X, y):\n",
    "    X_transformed = X\n",
    "    for step in self.steps[:-1]:\n",
    "        # iterate over all but the final step\n",
    "        # fit and transform the data\n",
    "        X_transformed = step[1].fit_transform(X_transformed, y)\n",
    "    # fit the last step\n",
    "    self.steps[-1][1].fit(X_transformed, y)\n",
    "    return self"
   ]
  },
  {
   "cell_type": "code",
   "execution_count": 13,
   "metadata": {},
   "outputs": [],
   "source": [
    "def predict(self, X):\n",
    "    X_transformed = X\n",
    "    for step in self.steps[:-1]:\n",
    "        # iterate over all but the final step\n",
    "        # transform the data\n",
    "        X_transformed = step[1].transform(X_transformed)\n",
    "    # predict using the last step\n",
    "    return self.steps[-1][1].predict(X_transformed)"
   ]
  },
  {
   "cell_type": "markdown",
   "metadata": {},
   "source": [
    "### Convenient Pipeline creation with ``make_pipeline``"
   ]
  },
  {
   "cell_type": "code",
   "execution_count": 14,
   "metadata": {},
   "outputs": [],
   "source": [
    "from sklearn.pipeline import make_pipeline\n",
    "# standard syntax\n",
    "pipe_long = Pipeline([(\"scaler\", MinMaxScaler()), (\"svm\", SVC(C=100))])\n",
    "# abbreviated syntax\n",
    "pipe_short = make_pipeline(MinMaxScaler(), SVC(C=100))"
   ]
  },
  {
   "cell_type": "code",
   "execution_count": 15,
   "metadata": {},
   "outputs": [
    {
     "data": {
      "text/plain": [
       "[('minmaxscaler', MinMaxScaler()), ('svc', SVC(C=100))]"
      ]
     },
     "execution_count": 15,
     "metadata": {},
     "output_type": "execute_result"
    }
   ],
   "source": [
    "pipe_short.steps"
   ]
  },
  {
   "cell_type": "code",
   "execution_count": 16,
   "metadata": {},
   "outputs": [
    {
     "data": {
      "text/plain": [
       "[('standardscaler-1', StandardScaler()),\n",
       " ('pca', PCA(n_components=2)),\n",
       " ('standardscaler-2', StandardScaler())]"
      ]
     },
     "execution_count": 16,
     "metadata": {},
     "output_type": "execute_result"
    }
   ],
   "source": [
    "from sklearn.preprocessing import StandardScaler\n",
    "from sklearn.decomposition import PCA\n",
    "\n",
    "pipe = make_pipeline(StandardScaler(), PCA(n_components=2),\n",
    "                     StandardScaler())\n",
    "pipe.steps"
   ]
  },
  {
   "cell_type": "markdown",
   "metadata": {},
   "source": [
    "#### Accessing step attributes"
   ]
  },
  {
   "cell_type": "code",
   "execution_count": 17,
   "metadata": {},
   "outputs": [
    {
     "name": "stdout",
     "output_type": "stream",
     "text": [
      "(2, 30)\n"
     ]
    }
   ],
   "source": [
    "# fit the pipeline defined above to the cancer dataset\n",
    "pipe.fit(cancer.data)\n",
    "# extract the first two principal components from the \"pca\" step\n",
    "components = pipe.named_steps.pca.components_\n",
    "print(components.shape)"
   ]
  },
  {
   "cell_type": "code",
   "execution_count": 18,
   "metadata": {},
   "outputs": [
    {
     "data": {
      "text/plain": [
       "array([[ 0.21890244,  0.10372458,  0.22753729,  0.22099499,  0.14258969,\n",
       "         0.23928535,  0.25840048,  0.26085376,  0.13816696,  0.06436335,\n",
       "         0.20597878,  0.01742803,  0.21132592,  0.20286964,  0.01453145,\n",
       "         0.17039345,  0.15358979,  0.1834174 ,  0.04249842,  0.10256832,\n",
       "         0.22799663,  0.10446933,  0.23663968,  0.22487053,  0.12795256,\n",
       "         0.21009588,  0.22876753,  0.25088597,  0.12290456,  0.13178394],\n",
       "       [-0.23385713, -0.05970609, -0.21518136, -0.23107671,  0.18611302,\n",
       "         0.15189161,  0.06016536, -0.0347675 ,  0.19034877,  0.36657547,\n",
       "        -0.10555215,  0.08997968, -0.08945723, -0.15229263,  0.20443045,\n",
       "         0.2327159 ,  0.19720728,  0.13032156,  0.183848  ,  0.28009203,\n",
       "        -0.21986638, -0.0454673 , -0.19987843, -0.21935186,  0.17230435,\n",
       "         0.14359317,  0.09796411, -0.00825724,  0.14188335,  0.27533947]])"
      ]
     },
     "execution_count": 18,
     "metadata": {},
     "output_type": "execute_result"
    }
   ],
   "source": [
    "pipe['pca'].components_"
   ]
  },
  {
   "cell_type": "code",
   "execution_count": 19,
   "metadata": {},
   "outputs": [
    {
     "data": {
      "text/plain": [
       "StandardScaler()"
      ]
     },
     "execution_count": 19,
     "metadata": {},
     "output_type": "execute_result"
    }
   ],
   "source": [
    "pipe[0]"
   ]
  },
  {
   "cell_type": "code",
   "execution_count": 20,
   "metadata": {},
   "outputs": [
    {
     "data": {
      "text/plain": [
       "PCA(n_components=2)"
      ]
     },
     "execution_count": 20,
     "metadata": {},
     "output_type": "execute_result"
    }
   ],
   "source": [
    "pipe[1]"
   ]
  },
  {
   "cell_type": "code",
   "execution_count": 21,
   "metadata": {},
   "outputs": [
    {
     "data": {
      "text/plain": [
       "Pipeline(steps=[('standardscaler-1', StandardScaler()),\n",
       "                ('pca', PCA(n_components=2))])"
      ]
     },
     "execution_count": 21,
     "metadata": {},
     "output_type": "execute_result"
    }
   ],
   "source": [
    "pipe[:2]"
   ]
  },
  {
   "cell_type": "markdown",
   "metadata": {},
   "source": [
    "#### Accessing attributes in grid-searched pipeline."
   ]
  },
  {
   "cell_type": "code",
   "execution_count": 22,
   "metadata": {},
   "outputs": [],
   "source": [
    "from sklearn.linear_model import LogisticRegression\n",
    "\n",
    "pipe = make_pipeline(StandardScaler(), LogisticRegression(max_iter=1000))"
   ]
  },
  {
   "cell_type": "code",
   "execution_count": 23,
   "metadata": {},
   "outputs": [],
   "source": [
    "param_grid = {'logisticregression__C': [0.01, 0.1, 1, 10, 100]}"
   ]
  },
  {
   "cell_type": "code",
   "execution_count": 24,
   "metadata": {},
   "outputs": [
    {
     "data": {
      "text/plain": [
       "GridSearchCV(estimator=Pipeline(steps=[('standardscaler', StandardScaler()),\n",
       "                                       ('logisticregression',\n",
       "                                        LogisticRegression(max_iter=1000))]),\n",
       "             param_grid={'logisticregression__C': [0.01, 0.1, 1, 10, 100]})"
      ]
     },
     "execution_count": 24,
     "metadata": {},
     "output_type": "execute_result"
    }
   ],
   "source": [
    "X_train, X_test, y_train, y_test = train_test_split(\n",
    "    cancer.data, cancer.target, random_state=4)\n",
    "grid = GridSearchCV(pipe, param_grid)\n",
    "grid.fit(X_train, y_train)"
   ]
  },
  {
   "cell_type": "code",
   "execution_count": 25,
   "metadata": {},
   "outputs": [
    {
     "name": "stdout",
     "output_type": "stream",
     "text": [
      "Pipeline(steps=[('standardscaler', StandardScaler()),\n",
      "                ('logisticregression', LogisticRegression(C=1, max_iter=1000))])\n"
     ]
    }
   ],
   "source": [
    "print(grid.best_estimator_)"
   ]
  },
  {
   "cell_type": "code",
   "execution_count": 26,
   "metadata": {},
   "outputs": [
    {
     "name": "stdout",
     "output_type": "stream",
     "text": [
      "LogisticRegression(C=1, max_iter=1000)\n",
      "LogisticRegression(C=1, max_iter=1000)\n"
     ]
    }
   ],
   "source": [
    "print(grid.best_estimator_.named_steps.logisticregression)\n",
    "print(grid.best_estimator_['logisticregression'])"
   ]
  },
  {
   "cell_type": "code",
   "execution_count": 27,
   "metadata": {},
   "outputs": [
    {
     "data": {
      "text/html": [
       "<div>\n",
       "<style scoped>\n",
       "    .dataframe tbody tr th:only-of-type {\n",
       "        vertical-align: middle;\n",
       "    }\n",
       "\n",
       "    .dataframe tbody tr th {\n",
       "        vertical-align: top;\n",
       "    }\n",
       "\n",
       "    .dataframe thead th {\n",
       "        text-align: right;\n",
       "    }\n",
       "</style>\n",
       "<table border=\"1\" class=\"dataframe\">\n",
       "  <thead>\n",
       "    <tr style=\"text-align: right;\">\n",
       "      <th></th>\n",
       "      <th>0</th>\n",
       "    </tr>\n",
       "  </thead>\n",
       "  <tbody>\n",
       "    <tr>\n",
       "      <th>mean radius</th>\n",
       "      <td>-0.435707</td>\n",
       "    </tr>\n",
       "    <tr>\n",
       "      <th>mean texture</th>\n",
       "      <td>-0.342669</td>\n",
       "    </tr>\n",
       "    <tr>\n",
       "      <th>mean perimeter</th>\n",
       "      <td>-0.408094</td>\n",
       "    </tr>\n",
       "    <tr>\n",
       "      <th>mean area</th>\n",
       "      <td>-0.534457</td>\n",
       "    </tr>\n",
       "    <tr>\n",
       "      <th>mean smoothness</th>\n",
       "      <td>-0.149718</td>\n",
       "    </tr>\n",
       "    <tr>\n",
       "      <th>mean compactness</th>\n",
       "      <td>0.610341</td>\n",
       "    </tr>\n",
       "    <tr>\n",
       "      <th>mean concavity</th>\n",
       "      <td>-0.726343</td>\n",
       "    </tr>\n",
       "    <tr>\n",
       "      <th>mean concave points</th>\n",
       "      <td>-0.785388</td>\n",
       "    </tr>\n",
       "    <tr>\n",
       "      <th>mean symmetry</th>\n",
       "      <td>0.038861</td>\n",
       "    </tr>\n",
       "    <tr>\n",
       "      <th>mean fractal dimension</th>\n",
       "      <td>0.274972</td>\n",
       "    </tr>\n",
       "    <tr>\n",
       "      <th>radius error</th>\n",
       "      <td>-1.297801</td>\n",
       "    </tr>\n",
       "    <tr>\n",
       "      <th>texture error</th>\n",
       "      <td>0.049260</td>\n",
       "    </tr>\n",
       "    <tr>\n",
       "      <th>perimeter error</th>\n",
       "      <td>-0.673369</td>\n",
       "    </tr>\n",
       "    <tr>\n",
       "      <th>area error</th>\n",
       "      <td>-0.934474</td>\n",
       "    </tr>\n",
       "    <tr>\n",
       "      <th>smoothness error</th>\n",
       "      <td>-0.139396</td>\n",
       "    </tr>\n",
       "    <tr>\n",
       "      <th>compactness error</th>\n",
       "      <td>0.450326</td>\n",
       "    </tr>\n",
       "    <tr>\n",
       "      <th>concavity error</th>\n",
       "      <td>-0.130099</td>\n",
       "    </tr>\n",
       "    <tr>\n",
       "      <th>concave points error</th>\n",
       "      <td>-0.101443</td>\n",
       "    </tr>\n",
       "    <tr>\n",
       "      <th>symmetry error</th>\n",
       "      <td>0.434320</td>\n",
       "    </tr>\n",
       "    <tr>\n",
       "      <th>fractal dimension error</th>\n",
       "      <td>0.715966</td>\n",
       "    </tr>\n",
       "    <tr>\n",
       "      <th>worst radius</th>\n",
       "      <td>-1.090689</td>\n",
       "    </tr>\n",
       "    <tr>\n",
       "      <th>worst texture</th>\n",
       "      <td>-1.094640</td>\n",
       "    </tr>\n",
       "    <tr>\n",
       "      <th>worst perimeter</th>\n",
       "      <td>-0.851838</td>\n",
       "    </tr>\n",
       "    <tr>\n",
       "      <th>worst area</th>\n",
       "      <td>-1.064062</td>\n",
       "    </tr>\n",
       "    <tr>\n",
       "      <th>worst smoothness</th>\n",
       "      <td>-0.743161</td>\n",
       "    </tr>\n",
       "    <tr>\n",
       "      <th>worst compactness</th>\n",
       "      <td>0.072524</td>\n",
       "    </tr>\n",
       "    <tr>\n",
       "      <th>worst concavity</th>\n",
       "      <td>-0.823239</td>\n",
       "    </tr>\n",
       "    <tr>\n",
       "      <th>worst concave points</th>\n",
       "      <td>-0.653212</td>\n",
       "    </tr>\n",
       "    <tr>\n",
       "      <th>worst symmetry</th>\n",
       "      <td>-0.643795</td>\n",
       "    </tr>\n",
       "    <tr>\n",
       "      <th>worst fractal dimension</th>\n",
       "      <td>-0.420260</td>\n",
       "    </tr>\n",
       "  </tbody>\n",
       "</table>\n",
       "</div>"
      ],
      "text/plain": [
       "                                0\n",
       "mean radius             -0.435707\n",
       "mean texture            -0.342669\n",
       "mean perimeter          -0.408094\n",
       "mean area               -0.534457\n",
       "mean smoothness         -0.149718\n",
       "mean compactness         0.610341\n",
       "mean concavity          -0.726343\n",
       "mean concave points     -0.785388\n",
       "mean symmetry            0.038861\n",
       "mean fractal dimension   0.274972\n",
       "radius error            -1.297801\n",
       "texture error            0.049260\n",
       "perimeter error         -0.673369\n",
       "area error              -0.934474\n",
       "smoothness error        -0.139396\n",
       "compactness error        0.450326\n",
       "concavity error         -0.130099\n",
       "concave points error    -0.101443\n",
       "symmetry error           0.434320\n",
       "fractal dimension error  0.715966\n",
       "worst radius            -1.090689\n",
       "worst texture           -1.094640\n",
       "worst perimeter         -0.851838\n",
       "worst area              -1.064062\n",
       "worst smoothness        -0.743161\n",
       "worst compactness        0.072524\n",
       "worst concavity         -0.823239\n",
       "worst concave points    -0.653212\n",
       "worst symmetry          -0.643795\n",
       "worst fractal dimension -0.420260"
      ]
     },
     "execution_count": 27,
     "metadata": {},
     "output_type": "execute_result"
    }
   ],
   "source": [
    "#print(grid.best_estimator_.named_steps.logisticregression.coef_)\n",
    "\n",
    "\n",
    "d =cancer.feature_names\n",
    "v=grid.best_estimator_.named_steps.logisticregression.coef_.reshape(-1,1)\n",
    "dataframe = pd.DataFrame.from_records(v,index=d)\n",
    "dataframe"
   ]
  },
  {
   "cell_type": "code",
   "execution_count": 28,
   "metadata": {},
   "outputs": [
    {
     "name": "stdout",
     "output_type": "stream",
     "text": [
      "[[-0.43570655 -0.34266946 -0.40809443 -0.5344574  -0.14971847  0.61034122\n",
      "  -0.72634347 -0.78538827  0.03886087  0.27497198 -1.29780109  0.04926005\n",
      "  -0.67336941 -0.93447426 -0.13939555  0.45032641 -0.13009864 -0.10144273\n",
      "   0.43432027  0.71596578 -1.09068862 -1.09463976 -0.85183755 -1.06406198\n",
      "  -0.74316099  0.07252425 -0.82323903 -0.65321239 -0.64379499 -0.42026013]]\n"
     ]
    }
   ],
   "source": [
    "print(grid.best_estimator_['logisticregression'].coef_)"
   ]
  },
  {
   "cell_type": "markdown",
   "metadata": {},
   "source": [
    "### Grid-searching preprocessing steps and model parameters"
   ]
  },
  {
   "cell_type": "code",
   "execution_count": 29,
   "metadata": {},
   "outputs": [],
   "source": [
    "from sklearn.datasets import load_diabetes\n",
    "boston = load_diabetes()\n",
    "X_train, X_test, y_train, y_test = train_test_split(\n",
    "    boston.data, boston.target, random_state=0)\n",
    "\n",
    "from sklearn.preprocessing import PolynomialFeatures\n",
    "pipe = make_pipeline(\n",
    "    StandardScaler(),\n",
    "    PolynomialFeatures(),\n",
    "    Ridge())"
   ]
  },
  {
   "cell_type": "code",
   "execution_count": 30,
   "metadata": {},
   "outputs": [],
   "source": [
    "param_grid = {'polynomialfeatures__degree': [1, 2, 3],\n",
    "              'ridge__alpha': [0.001, 0.01, 0.1, 1, 10, 100]}"
   ]
  },
  {
   "cell_type": "code",
   "execution_count": 31,
   "metadata": {},
   "outputs": [
    {
     "data": {
      "text/plain": [
       "GridSearchCV(estimator=Pipeline(steps=[('standardscaler', StandardScaler()),\n",
       "                                       ('polynomialfeatures',\n",
       "                                        PolynomialFeatures()),\n",
       "                                       ('ridge', Ridge())]),\n",
       "             n_jobs=-1,\n",
       "             param_grid={'polynomialfeatures__degree': [1, 2, 3],\n",
       "                         'ridge__alpha': [0.001, 0.01, 0.1, 1, 10, 100]},\n",
       "             return_train_score=True)"
      ]
     },
     "execution_count": 31,
     "metadata": {},
     "output_type": "execute_result"
    }
   ],
   "source": [
    "grid = GridSearchCV(pipe, param_grid=param_grid,\n",
    "                    n_jobs=-1, return_train_score=True)\n",
    "grid.fit(X_train, y_train)"
   ]
  },
  {
   "cell_type": "code",
   "execution_count": 32,
   "metadata": {},
   "outputs": [
    {
     "data": {
      "text/html": [
       "<div>\n",
       "<style scoped>\n",
       "    .dataframe tbody tr th:only-of-type {\n",
       "        vertical-align: middle;\n",
       "    }\n",
       "\n",
       "    .dataframe tbody tr th {\n",
       "        vertical-align: top;\n",
       "    }\n",
       "\n",
       "    .dataframe thead th {\n",
       "        text-align: right;\n",
       "    }\n",
       "</style>\n",
       "<table border=\"1\" class=\"dataframe\">\n",
       "  <thead>\n",
       "    <tr style=\"text-align: right;\">\n",
       "      <th></th>\n",
       "      <th>mean_fit_time</th>\n",
       "      <th>std_fit_time</th>\n",
       "      <th>mean_score_time</th>\n",
       "      <th>std_score_time</th>\n",
       "      <th>param_polynomialfeatures__degree</th>\n",
       "      <th>param_ridge__alpha</th>\n",
       "      <th>params</th>\n",
       "      <th>split0_test_score</th>\n",
       "      <th>split1_test_score</th>\n",
       "      <th>split2_test_score</th>\n",
       "      <th>...</th>\n",
       "      <th>mean_test_score</th>\n",
       "      <th>std_test_score</th>\n",
       "      <th>rank_test_score</th>\n",
       "      <th>split0_train_score</th>\n",
       "      <th>split1_train_score</th>\n",
       "      <th>split2_train_score</th>\n",
       "      <th>split3_train_score</th>\n",
       "      <th>split4_train_score</th>\n",
       "      <th>mean_train_score</th>\n",
       "      <th>std_train_score</th>\n",
       "    </tr>\n",
       "  </thead>\n",
       "  <tbody>\n",
       "    <tr>\n",
       "      <th>0</th>\n",
       "      <td>0.002555</td>\n",
       "      <td>0.000112</td>\n",
       "      <td>0.001278</td>\n",
       "      <td>0.000226</td>\n",
       "      <td>1</td>\n",
       "      <td>0.001</td>\n",
       "      <td>{'polynomialfeatures__degree': 1, 'ridge__alph...</td>\n",
       "      <td>0.433550</td>\n",
       "      <td>0.486062</td>\n",
       "      <td>0.514033</td>\n",
       "      <td>...</td>\n",
       "      <td>0.512238</td>\n",
       "      <td>0.049383</td>\n",
       "      <td>5</td>\n",
       "      <td>0.579986</td>\n",
       "      <td>0.565378</td>\n",
       "      <td>0.556566</td>\n",
       "      <td>0.547340</td>\n",
       "      <td>0.547173</td>\n",
       "      <td>0.559289</td>\n",
       "      <td>0.012349</td>\n",
       "    </tr>\n",
       "    <tr>\n",
       "      <th>1</th>\n",
       "      <td>0.003452</td>\n",
       "      <td>0.001580</td>\n",
       "      <td>0.001326</td>\n",
       "      <td>0.000198</td>\n",
       "      <td>1</td>\n",
       "      <td>0.01</td>\n",
       "      <td>{'polynomialfeatures__degree': 1, 'ridge__alph...</td>\n",
       "      <td>0.433578</td>\n",
       "      <td>0.486053</td>\n",
       "      <td>0.514045</td>\n",
       "      <td>...</td>\n",
       "      <td>0.512254</td>\n",
       "      <td>0.049385</td>\n",
       "      <td>4</td>\n",
       "      <td>0.579986</td>\n",
       "      <td>0.565378</td>\n",
       "      <td>0.556566</td>\n",
       "      <td>0.547340</td>\n",
       "      <td>0.547173</td>\n",
       "      <td>0.559289</td>\n",
       "      <td>0.012349</td>\n",
       "    </tr>\n",
       "    <tr>\n",
       "      <th>2</th>\n",
       "      <td>0.002649</td>\n",
       "      <td>0.001084</td>\n",
       "      <td>0.001305</td>\n",
       "      <td>0.000203</td>\n",
       "      <td>1</td>\n",
       "      <td>0.1</td>\n",
       "      <td>{'polynomialfeatures__degree': 1, 'ridge__alph...</td>\n",
       "      <td>0.433841</td>\n",
       "      <td>0.485966</td>\n",
       "      <td>0.514161</td>\n",
       "      <td>...</td>\n",
       "      <td>0.512406</td>\n",
       "      <td>0.049413</td>\n",
       "      <td>3</td>\n",
       "      <td>0.579982</td>\n",
       "      <td>0.565377</td>\n",
       "      <td>0.556563</td>\n",
       "      <td>0.547339</td>\n",
       "      <td>0.547166</td>\n",
       "      <td>0.559285</td>\n",
       "      <td>0.012349</td>\n",
       "    </tr>\n",
       "    <tr>\n",
       "      <th>3</th>\n",
       "      <td>0.002033</td>\n",
       "      <td>0.000194</td>\n",
       "      <td>0.000925</td>\n",
       "      <td>0.000109</td>\n",
       "      <td>1</td>\n",
       "      <td>1</td>\n",
       "      <td>{'polynomialfeatures__degree': 1, 'ridge__alph...</td>\n",
       "      <td>0.435508</td>\n",
       "      <td>0.485451</td>\n",
       "      <td>0.514905</td>\n",
       "      <td>...</td>\n",
       "      <td>0.513376</td>\n",
       "      <td>0.049622</td>\n",
       "      <td>2</td>\n",
       "      <td>0.579731</td>\n",
       "      <td>0.565309</td>\n",
       "      <td>0.556384</td>\n",
       "      <td>0.547307</td>\n",
       "      <td>0.546763</td>\n",
       "      <td>0.559099</td>\n",
       "      <td>0.012352</td>\n",
       "    </tr>\n",
       "    <tr>\n",
       "      <th>4</th>\n",
       "      <td>0.001760</td>\n",
       "      <td>0.000242</td>\n",
       "      <td>0.000908</td>\n",
       "      <td>0.000084</td>\n",
       "      <td>1</td>\n",
       "      <td>10</td>\n",
       "      <td>{'polynomialfeatures__degree': 1, 'ridge__alph...</td>\n",
       "      <td>0.441858</td>\n",
       "      <td>0.487365</td>\n",
       "      <td>0.516466</td>\n",
       "      <td>...</td>\n",
       "      <td>0.515968</td>\n",
       "      <td>0.048215</td>\n",
       "      <td>1</td>\n",
       "      <td>0.577828</td>\n",
       "      <td>0.564338</td>\n",
       "      <td>0.554608</td>\n",
       "      <td>0.546770</td>\n",
       "      <td>0.543759</td>\n",
       "      <td>0.557461</td>\n",
       "      <td>0.012428</td>\n",
       "    </tr>\n",
       "  </tbody>\n",
       "</table>\n",
       "<p>5 rows × 22 columns</p>\n",
       "</div>"
      ],
      "text/plain": [
       "   mean_fit_time  std_fit_time  mean_score_time  std_score_time  \\\n",
       "0       0.002555      0.000112         0.001278        0.000226   \n",
       "1       0.003452      0.001580         0.001326        0.000198   \n",
       "2       0.002649      0.001084         0.001305        0.000203   \n",
       "3       0.002033      0.000194         0.000925        0.000109   \n",
       "4       0.001760      0.000242         0.000908        0.000084   \n",
       "\n",
       "  param_polynomialfeatures__degree param_ridge__alpha  \\\n",
       "0                                1              0.001   \n",
       "1                                1               0.01   \n",
       "2                                1                0.1   \n",
       "3                                1                  1   \n",
       "4                                1                 10   \n",
       "\n",
       "                                              params  split0_test_score  \\\n",
       "0  {'polynomialfeatures__degree': 1, 'ridge__alph...           0.433550   \n",
       "1  {'polynomialfeatures__degree': 1, 'ridge__alph...           0.433578   \n",
       "2  {'polynomialfeatures__degree': 1, 'ridge__alph...           0.433841   \n",
       "3  {'polynomialfeatures__degree': 1, 'ridge__alph...           0.435508   \n",
       "4  {'polynomialfeatures__degree': 1, 'ridge__alph...           0.441858   \n",
       "\n",
       "   split1_test_score  split2_test_score  ...  mean_test_score  std_test_score  \\\n",
       "0           0.486062           0.514033  ...         0.512238        0.049383   \n",
       "1           0.486053           0.514045  ...         0.512254        0.049385   \n",
       "2           0.485966           0.514161  ...         0.512406        0.049413   \n",
       "3           0.485451           0.514905  ...         0.513376        0.049622   \n",
       "4           0.487365           0.516466  ...         0.515968        0.048215   \n",
       "\n",
       "   rank_test_score  split0_train_score  split1_train_score  \\\n",
       "0                5            0.579986            0.565378   \n",
       "1                4            0.579986            0.565378   \n",
       "2                3            0.579982            0.565377   \n",
       "3                2            0.579731            0.565309   \n",
       "4                1            0.577828            0.564338   \n",
       "\n",
       "   split2_train_score  split3_train_score  split4_train_score  \\\n",
       "0            0.556566            0.547340            0.547173   \n",
       "1            0.556566            0.547340            0.547173   \n",
       "2            0.556563            0.547339            0.547166   \n",
       "3            0.556384            0.547307            0.546763   \n",
       "4            0.554608            0.546770            0.543759   \n",
       "\n",
       "   mean_train_score  std_train_score  \n",
       "0          0.559289         0.012349  \n",
       "1          0.559289         0.012349  \n",
       "2          0.559285         0.012349  \n",
       "3          0.559099         0.012352  \n",
       "4          0.557461         0.012428  \n",
       "\n",
       "[5 rows x 22 columns]"
      ]
     },
     "execution_count": 32,
     "metadata": {},
     "output_type": "execute_result"
    }
   ],
   "source": [
    "res = pd.DataFrame(grid.cv_results_)\n",
    "res.head()"
   ]
  },
  {
   "cell_type": "code",
   "execution_count": 33,
   "metadata": {},
   "outputs": [],
   "source": [
    "res = pd.pivot_table(res, index=['param_polynomialfeatures__degree', 'param_ridge__alpha'],\n",
    "               values=['mean_train_score', 'mean_test_score'])"
   ]
  },
  {
   "cell_type": "code",
   "execution_count": 34,
   "metadata": {},
   "outputs": [
    {
     "data": {
      "text/html": [
       "<div>\n",
       "<style scoped>\n",
       "    .dataframe tbody tr th:only-of-type {\n",
       "        vertical-align: middle;\n",
       "    }\n",
       "\n",
       "    .dataframe tbody tr th {\n",
       "        vertical-align: top;\n",
       "    }\n",
       "\n",
       "    .dataframe thead th {\n",
       "        text-align: right;\n",
       "    }\n",
       "</style>\n",
       "<table border=\"1\" class=\"dataframe\">\n",
       "  <thead>\n",
       "    <tr style=\"text-align: right;\">\n",
       "      <th>param_ridge__alpha</th>\n",
       "      <th>0.001</th>\n",
       "      <th>0.010</th>\n",
       "      <th>0.100</th>\n",
       "      <th>1.000</th>\n",
       "      <th>10.000</th>\n",
       "      <th>100.000</th>\n",
       "    </tr>\n",
       "    <tr>\n",
       "      <th>param_polynomialfeatures__degree</th>\n",
       "      <th></th>\n",
       "      <th></th>\n",
       "      <th></th>\n",
       "      <th></th>\n",
       "      <th></th>\n",
       "      <th></th>\n",
       "    </tr>\n",
       "  </thead>\n",
       "  <tbody>\n",
       "    <tr>\n",
       "      <th>1</th>\n",
       "      <td>0.559289</td>\n",
       "      <td>0.559289</td>\n",
       "      <td>0.559285</td>\n",
       "      <td>0.559099</td>\n",
       "      <td>0.557461</td>\n",
       "      <td>0.536270</td>\n",
       "    </tr>\n",
       "    <tr>\n",
       "      <th>2</th>\n",
       "      <td>0.666707</td>\n",
       "      <td>0.666268</td>\n",
       "      <td>0.664697</td>\n",
       "      <td>0.661747</td>\n",
       "      <td>0.650237</td>\n",
       "      <td>0.605903</td>\n",
       "    </tr>\n",
       "    <tr>\n",
       "      <th>3</th>\n",
       "      <td>0.974622</td>\n",
       "      <td>0.958083</td>\n",
       "      <td>0.927772</td>\n",
       "      <td>0.883468</td>\n",
       "      <td>0.823504</td>\n",
       "      <td>0.719794</td>\n",
       "    </tr>\n",
       "  </tbody>\n",
       "</table>\n",
       "</div>"
      ],
      "text/plain": [
       "param_ridge__alpha                 0.001     0.010     0.100     1.000    \\\n",
       "param_polynomialfeatures__degree                                           \n",
       "1                                 0.559289  0.559289  0.559285  0.559099   \n",
       "2                                 0.666707  0.666268  0.664697  0.661747   \n",
       "3                                 0.974622  0.958083  0.927772  0.883468   \n",
       "\n",
       "param_ridge__alpha                 10.000    100.000  \n",
       "param_polynomialfeatures__degree                      \n",
       "1                                 0.557461  0.536270  \n",
       "2                                 0.650237  0.605903  \n",
       "3                                 0.823504  0.719794  "
      ]
     },
     "execution_count": 34,
     "metadata": {},
     "output_type": "execute_result"
    }
   ],
   "source": [
    "res['mean_train_score'].unstack()"
   ]
  },
  {
   "cell_type": "code",
   "execution_count": 35,
   "metadata": {},
   "outputs": [
    {
     "data": {
      "text/html": [
       "<div>\n",
       "<style scoped>\n",
       "    .dataframe tbody tr th:only-of-type {\n",
       "        vertical-align: middle;\n",
       "    }\n",
       "\n",
       "    .dataframe tbody tr th {\n",
       "        vertical-align: top;\n",
       "    }\n",
       "\n",
       "    .dataframe thead th {\n",
       "        text-align: right;\n",
       "    }\n",
       "</style>\n",
       "<table border=\"1\" class=\"dataframe\">\n",
       "  <thead>\n",
       "    <tr style=\"text-align: right;\">\n",
       "      <th>param_ridge__alpha</th>\n",
       "      <th>0.001</th>\n",
       "      <th>0.010</th>\n",
       "      <th>0.100</th>\n",
       "      <th>1.000</th>\n",
       "      <th>10.000</th>\n",
       "      <th>100.000</th>\n",
       "    </tr>\n",
       "    <tr>\n",
       "      <th>param_polynomialfeatures__degree</th>\n",
       "      <th></th>\n",
       "      <th></th>\n",
       "      <th></th>\n",
       "      <th></th>\n",
       "      <th></th>\n",
       "      <th></th>\n",
       "    </tr>\n",
       "  </thead>\n",
       "  <tbody>\n",
       "    <tr>\n",
       "      <th>1</th>\n",
       "      <td>0.512238</td>\n",
       "      <td>0.512254</td>\n",
       "      <td>0.512406</td>\n",
       "      <td>0.513376</td>\n",
       "      <td>0.515968</td>\n",
       "      <td>0.507934</td>\n",
       "    </tr>\n",
       "    <tr>\n",
       "      <th>2</th>\n",
       "      <td>0.374003</td>\n",
       "      <td>0.379897</td>\n",
       "      <td>0.392917</td>\n",
       "      <td>0.428173</td>\n",
       "      <td>0.471838</td>\n",
       "      <td>0.492605</td>\n",
       "    </tr>\n",
       "    <tr>\n",
       "      <th>3</th>\n",
       "      <td>-51.023088</td>\n",
       "      <td>-16.452330</td>\n",
       "      <td>-5.166146</td>\n",
       "      <td>-1.194386</td>\n",
       "      <td>0.060621</td>\n",
       "      <td>0.315993</td>\n",
       "    </tr>\n",
       "  </tbody>\n",
       "</table>\n",
       "</div>"
      ],
      "text/plain": [
       "param_ridge__alpha                  0.001      0.010     0.100     1.000    \\\n",
       "param_polynomialfeatures__degree                                             \n",
       "1                                  0.512238   0.512254  0.512406  0.513376   \n",
       "2                                  0.374003   0.379897  0.392917  0.428173   \n",
       "3                                -51.023088 -16.452330 -5.166146 -1.194386   \n",
       "\n",
       "param_ridge__alpha                 10.000    100.000  \n",
       "param_polynomialfeatures__degree                      \n",
       "1                                 0.515968  0.507934  \n",
       "2                                 0.471838  0.492605  \n",
       "3                                 0.060621  0.315993  "
      ]
     },
     "execution_count": 35,
     "metadata": {},
     "output_type": "execute_result"
    }
   ],
   "source": [
    "res['mean_test_score'].unstack()"
   ]
  },
  {
   "cell_type": "code",
   "execution_count": 36,
   "metadata": {},
   "outputs": [
    {
     "name": "stdout",
     "output_type": "stream",
     "text": [
      "{'polynomialfeatures__degree': 1, 'ridge__alpha': 10}\n"
     ]
    }
   ],
   "source": [
    "print(grid.best_params_)"
   ]
  },
  {
   "cell_type": "code",
   "execution_count": 37,
   "metadata": {},
   "outputs": [
    {
     "data": {
      "text/plain": [
       "0.358034276291479"
      ]
     },
     "execution_count": 37,
     "metadata": {},
     "output_type": "execute_result"
    }
   ],
   "source": [
    "grid.score(X_test, y_test)"
   ]
  },
  {
   "cell_type": "code",
   "execution_count": 38,
   "metadata": {},
   "outputs": [],
   "source": [
    "from sklearn.linear_model import Lasso\n",
    "from sklearn.model_selection import RepeatedKFold"
   ]
  },
  {
   "cell_type": "code",
   "execution_count": 39,
   "metadata": {},
   "outputs": [
    {
     "data": {
      "text/plain": [
       "0.36724876701368514"
      ]
     },
     "execution_count": 39,
     "metadata": {},
     "output_type": "execute_result"
    }
   ],
   "source": [
    "pipe = Pipeline([('scaler', StandardScaler()), ('regressor', Ridge())])\n",
    "\n",
    "param_grid = {'scaler': [StandardScaler(), MinMaxScaler(), 'passthrough'],\n",
    "              'regressor': [Ridge(), Lasso()],\n",
    "              'regressor__alpha': np.logspace(-3, 3, 7)}\n",
    "\n",
    "grid = GridSearchCV(pipe, param_grid,\n",
    "                    cv=RepeatedKFold(n_splits=10, n_repeats=10))\n",
    "grid.fit(X_train, y_train)\n",
    "grid.score(X_test, y_test)"
   ]
  },
  {
   "cell_type": "code",
   "execution_count": 40,
   "metadata": {},
   "outputs": [
    {
     "data": {
      "text/plain": [
       "0.5027079671031465"
      ]
     },
     "execution_count": 40,
     "metadata": {},
     "output_type": "execute_result"
    }
   ],
   "source": [
    "grid.best_score_"
   ]
  },
  {
   "cell_type": "code",
   "execution_count": 41,
   "metadata": {},
   "outputs": [
    {
     "data": {
      "text/plain": [
       "{'regressor': Ridge(), 'regressor__alpha': 1.0, 'scaler': MinMaxScaler()}"
      ]
     },
     "execution_count": 41,
     "metadata": {},
     "output_type": "execute_result"
    }
   ],
   "source": [
    "grid.best_params_"
   ]
  },
  {
   "cell_type": "code",
   "execution_count": 42,
   "metadata": {},
   "outputs": [],
   "source": [
    "from sklearn.tree import DecisionTreeRegressor\n",
    "#can make list of grids to search through: \n",
    "param_grid = [{'regressor': [DecisionTreeRegressor()],\n",
    "               'regressor__max_depth': [2, 3, 4]},\n",
    "              {'regressor': [Ridge()],\n",
    "               'regressor__alpha': [0.1, 1]}\n",
    "             ]"
   ]
  },
  {
   "cell_type": "markdown",
   "metadata": {},
   "source": [
    "# More on ColumnTransformer"
   ]
  },
  {
   "cell_type": "code",
   "execution_count": 43,
   "metadata": {},
   "outputs": [
    {
     "data": {
      "text/html": [
       "<div>\n",
       "<style scoped>\n",
       "    .dataframe tbody tr th:only-of-type {\n",
       "        vertical-align: middle;\n",
       "    }\n",
       "\n",
       "    .dataframe tbody tr th {\n",
       "        vertical-align: top;\n",
       "    }\n",
       "\n",
       "    .dataframe thead th {\n",
       "        text-align: right;\n",
       "    }\n",
       "</style>\n",
       "<table border=\"1\" class=\"dataframe\">\n",
       "  <thead>\n",
       "    <tr style=\"text-align: right;\">\n",
       "      <th></th>\n",
       "      <th>season</th>\n",
       "      <th>mnth</th>\n",
       "      <th>holiday</th>\n",
       "      <th>weekday</th>\n",
       "      <th>workingday</th>\n",
       "      <th>weathersit</th>\n",
       "      <th>temp</th>\n",
       "      <th>atemp</th>\n",
       "      <th>hum</th>\n",
       "      <th>windspeed</th>\n",
       "      <th>cnt</th>\n",
       "    </tr>\n",
       "  </thead>\n",
       "  <tbody>\n",
       "    <tr>\n",
       "      <th>0</th>\n",
       "      <td>1</td>\n",
       "      <td>1</td>\n",
       "      <td>0</td>\n",
       "      <td>6</td>\n",
       "      <td>0</td>\n",
       "      <td>2</td>\n",
       "      <td>0.344167</td>\n",
       "      <td>0.363625</td>\n",
       "      <td>0.805833</td>\n",
       "      <td>0.160446</td>\n",
       "      <td>985</td>\n",
       "    </tr>\n",
       "    <tr>\n",
       "      <th>1</th>\n",
       "      <td>1</td>\n",
       "      <td>1</td>\n",
       "      <td>0</td>\n",
       "      <td>0</td>\n",
       "      <td>0</td>\n",
       "      <td>2</td>\n",
       "      <td>0.363478</td>\n",
       "      <td>0.353739</td>\n",
       "      <td>0.696087</td>\n",
       "      <td>0.248539</td>\n",
       "      <td>801</td>\n",
       "    </tr>\n",
       "    <tr>\n",
       "      <th>2</th>\n",
       "      <td>1</td>\n",
       "      <td>1</td>\n",
       "      <td>0</td>\n",
       "      <td>1</td>\n",
       "      <td>1</td>\n",
       "      <td>1</td>\n",
       "      <td>0.196364</td>\n",
       "      <td>0.189405</td>\n",
       "      <td>0.437273</td>\n",
       "      <td>0.248309</td>\n",
       "      <td>1349</td>\n",
       "    </tr>\n",
       "    <tr>\n",
       "      <th>3</th>\n",
       "      <td>1</td>\n",
       "      <td>1</td>\n",
       "      <td>0</td>\n",
       "      <td>2</td>\n",
       "      <td>1</td>\n",
       "      <td>1</td>\n",
       "      <td>0.200000</td>\n",
       "      <td>0.212122</td>\n",
       "      <td>0.590435</td>\n",
       "      <td>0.160296</td>\n",
       "      <td>1562</td>\n",
       "    </tr>\n",
       "    <tr>\n",
       "      <th>4</th>\n",
       "      <td>1</td>\n",
       "      <td>1</td>\n",
       "      <td>0</td>\n",
       "      <td>3</td>\n",
       "      <td>1</td>\n",
       "      <td>1</td>\n",
       "      <td>0.226957</td>\n",
       "      <td>0.229270</td>\n",
       "      <td>0.436957</td>\n",
       "      <td>0.186900</td>\n",
       "      <td>1600</td>\n",
       "    </tr>\n",
       "  </tbody>\n",
       "</table>\n",
       "</div>"
      ],
      "text/plain": [
       "   season  mnth  holiday  weekday  workingday  weathersit      temp     atemp  \\\n",
       "0       1     1        0        6           0           2  0.344167  0.363625   \n",
       "1       1     1        0        0           0           2  0.363478  0.353739   \n",
       "2       1     1        0        1           1           1  0.196364  0.189405   \n",
       "3       1     1        0        2           1           1  0.200000  0.212122   \n",
       "4       1     1        0        3           1           1  0.226957  0.229270   \n",
       "\n",
       "        hum  windspeed   cnt  \n",
       "0  0.805833   0.160446   985  \n",
       "1  0.696087   0.248539   801  \n",
       "2  0.437273   0.248309  1349  \n",
       "3  0.590435   0.160296  1562  \n",
       "4  0.436957   0.186900  1600  "
      ]
     },
     "execution_count": 43,
     "metadata": {},
     "output_type": "execute_result"
    }
   ],
   "source": [
    "from sklearn.compose import make_column_transformer, ColumnTransformer\n",
    "bike = pd.read_csv(\"data/bike_day_raw.csv\")\n",
    "bike.head()"
   ]
  },
  {
   "cell_type": "code",
   "execution_count": 44,
   "metadata": {},
   "outputs": [
    {
     "data": {
      "text/plain": [
       "season          int64\n",
       "mnth            int64\n",
       "holiday         int64\n",
       "weekday         int64\n",
       "workingday      int64\n",
       "weathersit      int64\n",
       "temp          float64\n",
       "atemp         float64\n",
       "hum           float64\n",
       "windspeed     float64\n",
       "cnt             int64\n",
       "dtype: object"
      ]
     },
     "execution_count": 44,
     "metadata": {},
     "output_type": "execute_result"
    }
   ],
   "source": [
    "bike.dtypes"
   ]
  },
  {
   "cell_type": "code",
   "execution_count": 45,
   "metadata": {},
   "outputs": [
    {
     "data": {
      "text/plain": [
       "Index(['season', 'mnth', 'holiday', 'weekday', 'workingday', 'weathersit'], dtype='object')"
      ]
     },
     "execution_count": 45,
     "metadata": {},
     "output_type": "execute_result"
    }
   ],
   "source": [
    "bike_data = bike.drop(\"cnt\", axis=1)\n",
    "cat_features = bike.columns[:6]\n",
    "cat_features"
   ]
  },
  {
   "cell_type": "code",
   "execution_count": 46,
   "metadata": {},
   "outputs": [
    {
     "data": {
      "text/plain": [
       "[('onehotencoder',\n",
       "  OneHotEncoder(sparse=False),\n",
       "  Index(['season', 'mnth', 'holiday', 'weekday', 'workingday', 'weathersit'], dtype='object'))]"
      ]
     },
     "execution_count": 46,
     "metadata": {},
     "output_type": "execute_result"
    }
   ],
   "source": [
    "from sklearn.preprocessing import OneHotEncoder\n",
    "ct = make_column_transformer((OneHotEncoder(sparse=False), cat_features),\n",
    "                             remainder=StandardScaler())\n",
    "ct.transformers"
   ]
  },
  {
   "cell_type": "code",
   "execution_count": 47,
   "metadata": {},
   "outputs": [
    {
     "data": {
      "text/plain": [
       "ColumnTransformer(transformers=[('ohe', OneHotEncoder(sparse=False),\n",
       "                                 Index(['season', 'mnth', 'holiday', 'weekday', 'workingday', 'weathersit'], dtype='object')),\n",
       "                                ('scaler', StandardScaler(), [6, 7, 8, 9])])"
      ]
     },
     "execution_count": 47,
     "metadata": {},
     "output_type": "execute_result"
    }
   ],
   "source": [
    "ColumnTransformer([('ohe', OneHotEncoder(sparse=False), cat_features)],\n",
    "                  remainder=StandardScaler())\n",
    "\n",
    "ColumnTransformer([('ohe', OneHotEncoder(sparse=False), cat_features),\n",
    "                   ('scaler', StandardScaler(), [6, 7, 8, 9])])\n",
    "\n",
    "#these three ways are equivalent"
   ]
  },
  {
   "cell_type": "code",
   "execution_count": 48,
   "metadata": {},
   "outputs": [
    {
     "data": {
      "text/plain": [
       "ColumnTransformer(remainder=StandardScaler(),\n",
       "                  transformers=[('onehotencoder', OneHotEncoder(sparse=False),\n",
       "                                 Index(['season', 'mnth', 'holiday', 'weekday', 'workingday', 'weathersit'], dtype='object'))])"
      ]
     },
     "execution_count": 48,
     "metadata": {},
     "output_type": "execute_result"
    }
   ],
   "source": [
    "ct.fit(bike_data)"
   ]
  },
  {
   "cell_type": "code",
   "execution_count": 49,
   "metadata": {},
   "outputs": [
    {
     "data": {
      "text/plain": [
       "(731, 10)"
      ]
     },
     "execution_count": 49,
     "metadata": {},
     "output_type": "execute_result"
    }
   ],
   "source": [
    "bike_data.shape"
   ]
  },
  {
   "cell_type": "code",
   "execution_count": 50,
   "metadata": {},
   "outputs": [
    {
     "data": {
      "text/plain": [
       "(731, 34)"
      ]
     },
     "execution_count": 50,
     "metadata": {},
     "output_type": "execute_result"
    }
   ],
   "source": [
    "ct.transform(bike_data).shape"
   ]
  },
  {
   "cell_type": "code",
   "execution_count": 51,
   "metadata": {},
   "outputs": [
    {
     "data": {
      "text/plain": [
       "array([[ 1.        ,  0.        ,  0.        , ..., -0.67994602,\n",
       "         1.25017133, -0.38789169],\n",
       "       [ 1.        ,  0.        ,  0.        , ..., -0.74065231,\n",
       "         0.47911298,  0.74960172],\n",
       "       [ 1.        ,  0.        ,  0.        , ..., -1.749767  ,\n",
       "        -1.33927398,  0.74663186],\n",
       "       ...,\n",
       "       [ 1.        ,  0.        ,  0.        , ..., -1.42434419,\n",
       "         0.87839173, -0.85355213],\n",
       "       [ 1.        ,  0.        ,  0.        , ..., -1.49004895,\n",
       "        -1.01566357,  2.06944426],\n",
       "       [ 1.        ,  0.        ,  0.        , ..., -1.54048197,\n",
       "        -0.35406086, -0.46020122]])"
      ]
     },
     "execution_count": 51,
     "metadata": {},
     "output_type": "execute_result"
    }
   ],
   "source": [
    "ct.transform(bike_data)"
   ]
  },
  {
   "cell_type": "code",
   "execution_count": 52,
   "metadata": {},
   "outputs": [],
   "source": [
    "ct = make_column_transformer((OneHotEncoder(sparse=False), cat_features),\n",
    "                             remainder=StandardScaler())\n",
    "ohe_pipe = make_pipeline(ct, Ridge())\n"
   ]
  },
  {
   "cell_type": "code",
   "execution_count": 53,
   "metadata": {},
   "outputs": [],
   "source": [
    "X_train, X_test, y_train, y_test = train_test_split(bike_data, bike.cnt, random_state=42)"
   ]
  },
  {
   "cell_type": "code",
   "execution_count": 54,
   "metadata": {},
   "outputs": [
    {
     "data": {
      "text/plain": [
       "array([0.52406232, 0.5348351 , 0.60879866, 0.40745233, 0.55003895])"
      ]
     },
     "execution_count": 54,
     "metadata": {},
     "output_type": "execute_result"
    }
   ],
   "source": [
    "cross_val_score(ohe_pipe, X_train, y_train)"
   ]
  },
  {
   "cell_type": "code",
   "execution_count": 55,
   "metadata": {},
   "outputs": [
    {
     "data": {
      "text/plain": [
       "0.5446847016583236"
      ]
     },
     "execution_count": 55,
     "metadata": {},
     "output_type": "execute_result"
    }
   ],
   "source": [
    "from sklearn.preprocessing import PowerTransformer\n",
    "\n",
    "ct = make_column_transformer((OneHotEncoder(sparse=False), cat_features))\n",
    "ohe_pipe = make_pipeline(ct, Ridge())\n",
    "\n",
    "param_grid = {'columntransformer__remainder':\n",
    "              [StandardScaler(), PowerTransformer(method='yeo-johnson')],\n",
    "              'ridge__alpha': np.logspace(-3, 2, 6)}\n",
    "grid = GridSearchCV(ohe_pipe, param_grid)\n",
    "grid.fit(X_train, y_train)\n",
    "grid.score(X_test, y_test)"
   ]
  },
  {
   "cell_type": "code",
   "execution_count": 56,
   "metadata": {},
   "outputs": [
    {
     "data": {
      "text/plain": [
       "{'columntransformer__remainder': StandardScaler(), 'ridge__alpha': 10.0}"
      ]
     },
     "execution_count": 56,
     "metadata": {},
     "output_type": "execute_result"
    }
   ],
   "source": [
    "grid.best_params_"
   ]
  },
  {
   "cell_type": "code",
   "execution_count": 57,
   "metadata": {},
   "outputs": [
    {
     "data": {
      "text/html": [
       "<div>\n",
       "<style scoped>\n",
       "    .dataframe tbody tr th:only-of-type {\n",
       "        vertical-align: middle;\n",
       "    }\n",
       "\n",
       "    .dataframe tbody tr th {\n",
       "        vertical-align: top;\n",
       "    }\n",
       "\n",
       "    .dataframe thead th {\n",
       "        text-align: right;\n",
       "    }\n",
       "</style>\n",
       "<table border=\"1\" class=\"dataframe\">\n",
       "  <thead>\n",
       "    <tr style=\"text-align: right;\">\n",
       "      <th></th>\n",
       "      <th>mean_fit_time</th>\n",
       "      <th>std_fit_time</th>\n",
       "      <th>mean_score_time</th>\n",
       "      <th>std_score_time</th>\n",
       "      <th>param_columntransformer__remainder</th>\n",
       "      <th>param_ridge__alpha</th>\n",
       "      <th>params</th>\n",
       "      <th>split0_test_score</th>\n",
       "      <th>split1_test_score</th>\n",
       "      <th>split2_test_score</th>\n",
       "      <th>split3_test_score</th>\n",
       "      <th>split4_test_score</th>\n",
       "      <th>mean_test_score</th>\n",
       "      <th>std_test_score</th>\n",
       "      <th>rank_test_score</th>\n",
       "    </tr>\n",
       "  </thead>\n",
       "  <tbody>\n",
       "    <tr>\n",
       "      <th>0</th>\n",
       "      <td>0.010116</td>\n",
       "      <td>0.001045</td>\n",
       "      <td>0.005623</td>\n",
       "      <td>0.000800</td>\n",
       "      <td>StandardScaler()</td>\n",
       "      <td>0.001</td>\n",
       "      <td>{'columntransformer__remainder': StandardScale...</td>\n",
       "      <td>0.523292</td>\n",
       "      <td>0.530999</td>\n",
       "      <td>0.610672</td>\n",
       "      <td>0.401703</td>\n",
       "      <td>0.546912</td>\n",
       "      <td>0.522716</td>\n",
       "      <td>0.067874</td>\n",
       "      <td>6</td>\n",
       "    </tr>\n",
       "    <tr>\n",
       "      <th>1</th>\n",
       "      <td>0.009496</td>\n",
       "      <td>0.000143</td>\n",
       "      <td>0.005018</td>\n",
       "      <td>0.000127</td>\n",
       "      <td>StandardScaler()</td>\n",
       "      <td>0.01</td>\n",
       "      <td>{'columntransformer__remainder': StandardScale...</td>\n",
       "      <td>0.523306</td>\n",
       "      <td>0.531043</td>\n",
       "      <td>0.610661</td>\n",
       "      <td>0.401770</td>\n",
       "      <td>0.546942</td>\n",
       "      <td>0.522744</td>\n",
       "      <td>0.067851</td>\n",
       "      <td>5</td>\n",
       "    </tr>\n",
       "    <tr>\n",
       "      <th>2</th>\n",
       "      <td>0.011384</td>\n",
       "      <td>0.001666</td>\n",
       "      <td>0.006348</td>\n",
       "      <td>0.000725</td>\n",
       "      <td>StandardScaler()</td>\n",
       "      <td>0.1</td>\n",
       "      <td>{'columntransformer__remainder': StandardScale...</td>\n",
       "      <td>0.523435</td>\n",
       "      <td>0.531467</td>\n",
       "      <td>0.610539</td>\n",
       "      <td>0.402414</td>\n",
       "      <td>0.547236</td>\n",
       "      <td>0.523018</td>\n",
       "      <td>0.067621</td>\n",
       "      <td>4</td>\n",
       "    </tr>\n",
       "    <tr>\n",
       "      <th>3</th>\n",
       "      <td>0.009578</td>\n",
       "      <td>0.000312</td>\n",
       "      <td>0.005487</td>\n",
       "      <td>0.000229</td>\n",
       "      <td>StandardScaler()</td>\n",
       "      <td>1</td>\n",
       "      <td>{'columntransformer__remainder': StandardScale...</td>\n",
       "      <td>0.524062</td>\n",
       "      <td>0.534835</td>\n",
       "      <td>0.608799</td>\n",
       "      <td>0.407452</td>\n",
       "      <td>0.550039</td>\n",
       "      <td>0.525037</td>\n",
       "      <td>0.065672</td>\n",
       "      <td>2</td>\n",
       "    </tr>\n",
       "    <tr>\n",
       "      <th>4</th>\n",
       "      <td>0.009238</td>\n",
       "      <td>0.000357</td>\n",
       "      <td>0.006194</td>\n",
       "      <td>0.000703</td>\n",
       "      <td>StandardScaler()</td>\n",
       "      <td>10</td>\n",
       "      <td>{'columntransformer__remainder': StandardScale...</td>\n",
       "      <td>0.515989</td>\n",
       "      <td>0.550924</td>\n",
       "      <td>0.594814</td>\n",
       "      <td>0.423947</td>\n",
       "      <td>0.566987</td>\n",
       "      <td>0.530532</td>\n",
       "      <td>0.059074</td>\n",
       "      <td>1</td>\n",
       "    </tr>\n",
       "    <tr>\n",
       "      <th>5</th>\n",
       "      <td>0.010571</td>\n",
       "      <td>0.002112</td>\n",
       "      <td>0.006350</td>\n",
       "      <td>0.000721</td>\n",
       "      <td>StandardScaler()</td>\n",
       "      <td>100</td>\n",
       "      <td>{'columntransformer__remainder': StandardScale...</td>\n",
       "      <td>0.451963</td>\n",
       "      <td>0.547740</td>\n",
       "      <td>0.538225</td>\n",
       "      <td>0.421852</td>\n",
       "      <td>0.553704</td>\n",
       "      <td>0.502697</td>\n",
       "      <td>0.054777</td>\n",
       "      <td>11</td>\n",
       "    </tr>\n",
       "    <tr>\n",
       "      <th>6</th>\n",
       "      <td>0.021868</td>\n",
       "      <td>0.002137</td>\n",
       "      <td>0.006752</td>\n",
       "      <td>0.000689</td>\n",
       "      <td>PowerTransformer()</td>\n",
       "      <td>0.001</td>\n",
       "      <td>{'columntransformer__remainder': PowerTransfor...</td>\n",
       "      <td>0.516199</td>\n",
       "      <td>0.532617</td>\n",
       "      <td>0.595314</td>\n",
       "      <td>0.393089</td>\n",
       "      <td>0.541294</td>\n",
       "      <td>0.515703</td>\n",
       "      <td>0.066803</td>\n",
       "      <td>10</td>\n",
       "    </tr>\n",
       "    <tr>\n",
       "      <th>7</th>\n",
       "      <td>0.017972</td>\n",
       "      <td>0.001189</td>\n",
       "      <td>0.006107</td>\n",
       "      <td>0.001386</td>\n",
       "      <td>PowerTransformer()</td>\n",
       "      <td>0.01</td>\n",
       "      <td>{'columntransformer__remainder': PowerTransfor...</td>\n",
       "      <td>0.516204</td>\n",
       "      <td>0.532670</td>\n",
       "      <td>0.595368</td>\n",
       "      <td>0.393087</td>\n",
       "      <td>0.541340</td>\n",
       "      <td>0.515734</td>\n",
       "      <td>0.066823</td>\n",
       "      <td>9</td>\n",
       "    </tr>\n",
       "    <tr>\n",
       "      <th>8</th>\n",
       "      <td>0.020794</td>\n",
       "      <td>0.003204</td>\n",
       "      <td>0.006899</td>\n",
       "      <td>0.002341</td>\n",
       "      <td>PowerTransformer()</td>\n",
       "      <td>0.1</td>\n",
       "      <td>{'columntransformer__remainder': PowerTransfor...</td>\n",
       "      <td>0.516240</td>\n",
       "      <td>0.533174</td>\n",
       "      <td>0.595828</td>\n",
       "      <td>0.393100</td>\n",
       "      <td>0.541763</td>\n",
       "      <td>0.516021</td>\n",
       "      <td>0.066986</td>\n",
       "      <td>8</td>\n",
       "    </tr>\n",
       "    <tr>\n",
       "      <th>9</th>\n",
       "      <td>0.017462</td>\n",
       "      <td>0.000504</td>\n",
       "      <td>0.005614</td>\n",
       "      <td>0.000403</td>\n",
       "      <td>PowerTransformer()</td>\n",
       "      <td>1</td>\n",
       "      <td>{'columntransformer__remainder': PowerTransfor...</td>\n",
       "      <td>0.516252</td>\n",
       "      <td>0.536836</td>\n",
       "      <td>0.596867</td>\n",
       "      <td>0.394672</td>\n",
       "      <td>0.544733</td>\n",
       "      <td>0.517872</td>\n",
       "      <td>0.067085</td>\n",
       "      <td>7</td>\n",
       "    </tr>\n",
       "    <tr>\n",
       "      <th>10</th>\n",
       "      <td>0.018013</td>\n",
       "      <td>0.000434</td>\n",
       "      <td>0.005540</td>\n",
       "      <td>0.000302</td>\n",
       "      <td>PowerTransformer()</td>\n",
       "      <td>10</td>\n",
       "      <td>{'columntransformer__remainder': PowerTransfor...</td>\n",
       "      <td>0.508169</td>\n",
       "      <td>0.552921</td>\n",
       "      <td>0.585454</td>\n",
       "      <td>0.407621</td>\n",
       "      <td>0.561836</td>\n",
       "      <td>0.523200</td>\n",
       "      <td>0.062986</td>\n",
       "      <td>3</td>\n",
       "    </tr>\n",
       "    <tr>\n",
       "      <th>11</th>\n",
       "      <td>0.017415</td>\n",
       "      <td>0.000655</td>\n",
       "      <td>0.005450</td>\n",
       "      <td>0.000136</td>\n",
       "      <td>PowerTransformer()</td>\n",
       "      <td>100</td>\n",
       "      <td>{'columntransformer__remainder': PowerTransfor...</td>\n",
       "      <td>0.442441</td>\n",
       "      <td>0.545727</td>\n",
       "      <td>0.528838</td>\n",
       "      <td>0.408548</td>\n",
       "      <td>0.547744</td>\n",
       "      <td>0.494660</td>\n",
       "      <td>0.057855</td>\n",
       "      <td>12</td>\n",
       "    </tr>\n",
       "  </tbody>\n",
       "</table>\n",
       "</div>"
      ],
      "text/plain": [
       "    mean_fit_time  std_fit_time  mean_score_time  std_score_time  \\\n",
       "0        0.010116      0.001045         0.005623        0.000800   \n",
       "1        0.009496      0.000143         0.005018        0.000127   \n",
       "2        0.011384      0.001666         0.006348        0.000725   \n",
       "3        0.009578      0.000312         0.005487        0.000229   \n",
       "4        0.009238      0.000357         0.006194        0.000703   \n",
       "5        0.010571      0.002112         0.006350        0.000721   \n",
       "6        0.021868      0.002137         0.006752        0.000689   \n",
       "7        0.017972      0.001189         0.006107        0.001386   \n",
       "8        0.020794      0.003204         0.006899        0.002341   \n",
       "9        0.017462      0.000504         0.005614        0.000403   \n",
       "10       0.018013      0.000434         0.005540        0.000302   \n",
       "11       0.017415      0.000655         0.005450        0.000136   \n",
       "\n",
       "   param_columntransformer__remainder param_ridge__alpha  \\\n",
       "0                    StandardScaler()              0.001   \n",
       "1                    StandardScaler()               0.01   \n",
       "2                    StandardScaler()                0.1   \n",
       "3                    StandardScaler()                  1   \n",
       "4                    StandardScaler()                 10   \n",
       "5                    StandardScaler()                100   \n",
       "6                  PowerTransformer()              0.001   \n",
       "7                  PowerTransformer()               0.01   \n",
       "8                  PowerTransformer()                0.1   \n",
       "9                  PowerTransformer()                  1   \n",
       "10                 PowerTransformer()                 10   \n",
       "11                 PowerTransformer()                100   \n",
       "\n",
       "                                               params  split0_test_score  \\\n",
       "0   {'columntransformer__remainder': StandardScale...           0.523292   \n",
       "1   {'columntransformer__remainder': StandardScale...           0.523306   \n",
       "2   {'columntransformer__remainder': StandardScale...           0.523435   \n",
       "3   {'columntransformer__remainder': StandardScale...           0.524062   \n",
       "4   {'columntransformer__remainder': StandardScale...           0.515989   \n",
       "5   {'columntransformer__remainder': StandardScale...           0.451963   \n",
       "6   {'columntransformer__remainder': PowerTransfor...           0.516199   \n",
       "7   {'columntransformer__remainder': PowerTransfor...           0.516204   \n",
       "8   {'columntransformer__remainder': PowerTransfor...           0.516240   \n",
       "9   {'columntransformer__remainder': PowerTransfor...           0.516252   \n",
       "10  {'columntransformer__remainder': PowerTransfor...           0.508169   \n",
       "11  {'columntransformer__remainder': PowerTransfor...           0.442441   \n",
       "\n",
       "    split1_test_score  split2_test_score  split3_test_score  \\\n",
       "0            0.530999           0.610672           0.401703   \n",
       "1            0.531043           0.610661           0.401770   \n",
       "2            0.531467           0.610539           0.402414   \n",
       "3            0.534835           0.608799           0.407452   \n",
       "4            0.550924           0.594814           0.423947   \n",
       "5            0.547740           0.538225           0.421852   \n",
       "6            0.532617           0.595314           0.393089   \n",
       "7            0.532670           0.595368           0.393087   \n",
       "8            0.533174           0.595828           0.393100   \n",
       "9            0.536836           0.596867           0.394672   \n",
       "10           0.552921           0.585454           0.407621   \n",
       "11           0.545727           0.528838           0.408548   \n",
       "\n",
       "    split4_test_score  mean_test_score  std_test_score  rank_test_score  \n",
       "0            0.546912         0.522716        0.067874                6  \n",
       "1            0.546942         0.522744        0.067851                5  \n",
       "2            0.547236         0.523018        0.067621                4  \n",
       "3            0.550039         0.525037        0.065672                2  \n",
       "4            0.566987         0.530532        0.059074                1  \n",
       "5            0.553704         0.502697        0.054777               11  \n",
       "6            0.541294         0.515703        0.066803               10  \n",
       "7            0.541340         0.515734        0.066823                9  \n",
       "8            0.541763         0.516021        0.066986                8  \n",
       "9            0.544733         0.517872        0.067085                7  \n",
       "10           0.561836         0.523200        0.062986                3  \n",
       "11           0.547744         0.494660        0.057855               12  "
      ]
     },
     "execution_count": 57,
     "metadata": {},
     "output_type": "execute_result"
    }
   ],
   "source": [
    "res = pd.DataFrame(grid.cv_results_)\n",
    "res"
   ]
  },
  {
   "cell_type": "code",
   "execution_count": 58,
   "metadata": {},
   "outputs": [
    {
     "data": {
      "text/plain": [
       "<matplotlib.legend.Legend at 0x12dad89d0>"
      ]
     },
     "execution_count": 58,
     "metadata": {},
     "output_type": "execute_result"
    },
    {
     "data": {
      "image/png": "[encoded data removed]",
      "text/plain": [
       "<Figure size 432x288 with 1 Axes>"
      ]
     },
     "metadata": {
      "needs_background": "light"
     },
     "output_type": "display_data"
    }
   ],
   "source": [
    "plt.plot(res.mean_test_score[:6].values, label=\"StandardScaler\")\n",
    "plt.plot(res.mean_test_score[6:].values, label=\"PowerTransformer\")\n",
    "plt.legend()"
   ]
  },
  {
   "cell_type": "markdown",
   "metadata": {},
   "source": [
    "# Exercise\n",
    "\n",
    "Load the adult dataset. Create a pipline using the ColumnTransformer, OneHotEncoder, Scaling, and polynomial features and a linear classifier.\n",
    "\n",
    "Search over the best options for the polynomial features together with the regularization of a linear model."
   ]
  },
  {
   "cell_type": "code",
   "execution_count": 77,
   "metadata": {},
   "outputs": [
    {
     "data": {
      "text/html": [
       "<div>\n",
       "<style scoped>\n",
       "    .dataframe tbody tr th:only-of-type {\n",
       "        vertical-align: middle;\n",
       "    }\n",
       "\n",
       "    .dataframe tbody tr th {\n",
       "        vertical-align: top;\n",
       "    }\n",
       "\n",
       "    .dataframe thead th {\n",
       "        text-align: right;\n",
       "    }\n",
       "</style>\n",
       "<table border=\"1\" class=\"dataframe\">\n",
       "  <thead>\n",
       "    <tr style=\"text-align: right;\">\n",
       "      <th></th>\n",
       "      <th>age</th>\n",
       "      <th>workclass</th>\n",
       "      <th>education</th>\n",
       "      <th>education-num</th>\n",
       "      <th>marital-status</th>\n",
       "      <th>occupation</th>\n",
       "      <th>relationship</th>\n",
       "      <th>race</th>\n",
       "      <th>gender</th>\n",
       "      <th>capital-gain</th>\n",
       "      <th>capital-loss</th>\n",
       "      <th>hours-per-week</th>\n",
       "      <th>native-country</th>\n",
       "    </tr>\n",
       "  </thead>\n",
       "  <tbody>\n",
       "    <tr>\n",
       "      <th>0</th>\n",
       "      <td>39</td>\n",
       "      <td>State-gov</td>\n",
       "      <td>Bachelors</td>\n",
       "      <td>13</td>\n",
       "      <td>Never-married</td>\n",
       "      <td>Adm-clerical</td>\n",
       "      <td>Not-in-family</td>\n",
       "      <td>White</td>\n",
       "      <td>Male</td>\n",
       "      <td>2174</td>\n",
       "      <td>0</td>\n",
       "      <td>40</td>\n",
       "      <td>United-States</td>\n",
       "    </tr>\n",
       "    <tr>\n",
       "      <th>1</th>\n",
       "      <td>50</td>\n",
       "      <td>Self-emp-not-inc</td>\n",
       "      <td>Bachelors</td>\n",
       "      <td>13</td>\n",
       "      <td>Married-civ-spouse</td>\n",
       "      <td>Exec-managerial</td>\n",
       "      <td>Husband</td>\n",
       "      <td>White</td>\n",
       "      <td>Male</td>\n",
       "      <td>0</td>\n",
       "      <td>0</td>\n",
       "      <td>13</td>\n",
       "      <td>United-States</td>\n",
       "    </tr>\n",
       "    <tr>\n",
       "      <th>2</th>\n",
       "      <td>38</td>\n",
       "      <td>Private</td>\n",
       "      <td>HS-grad</td>\n",
       "      <td>9</td>\n",
       "      <td>Divorced</td>\n",
       "      <td>Handlers-cleaners</td>\n",
       "      <td>Not-in-family</td>\n",
       "      <td>White</td>\n",
       "      <td>Male</td>\n",
       "      <td>0</td>\n",
       "      <td>0</td>\n",
       "      <td>40</td>\n",
       "      <td>United-States</td>\n",
       "    </tr>\n",
       "    <tr>\n",
       "      <th>3</th>\n",
       "      <td>53</td>\n",
       "      <td>Private</td>\n",
       "      <td>11th</td>\n",
       "      <td>7</td>\n",
       "      <td>Married-civ-spouse</td>\n",
       "      <td>Handlers-cleaners</td>\n",
       "      <td>Husband</td>\n",
       "      <td>Black</td>\n",
       "      <td>Male</td>\n",
       "      <td>0</td>\n",
       "      <td>0</td>\n",
       "      <td>40</td>\n",
       "      <td>United-States</td>\n",
       "    </tr>\n",
       "    <tr>\n",
       "      <th>4</th>\n",
       "      <td>28</td>\n",
       "      <td>Private</td>\n",
       "      <td>Bachelors</td>\n",
       "      <td>13</td>\n",
       "      <td>Married-civ-spouse</td>\n",
       "      <td>Prof-specialty</td>\n",
       "      <td>Wife</td>\n",
       "      <td>Black</td>\n",
       "      <td>Female</td>\n",
       "      <td>0</td>\n",
       "      <td>0</td>\n",
       "      <td>40</td>\n",
       "      <td>Cuba</td>\n",
       "    </tr>\n",
       "  </tbody>\n",
       "</table>\n",
       "</div>"
      ],
      "text/plain": [
       "   age          workclass   education  education-num       marital-status  \\\n",
       "0   39          State-gov   Bachelors             13        Never-married   \n",
       "1   50   Self-emp-not-inc   Bachelors             13   Married-civ-spouse   \n",
       "2   38            Private     HS-grad              9             Divorced   \n",
       "3   53            Private        11th              7   Married-civ-spouse   \n",
       "4   28            Private   Bachelors             13   Married-civ-spouse   \n",
       "\n",
       "           occupation    relationship    race   gender  capital-gain  \\\n",
       "0        Adm-clerical   Not-in-family   White     Male          2174   \n",
       "1     Exec-managerial         Husband   White     Male             0   \n",
       "2   Handlers-cleaners   Not-in-family   White     Male             0   \n",
       "3   Handlers-cleaners         Husband   Black     Male             0   \n",
       "4      Prof-specialty            Wife   Black   Female             0   \n",
       "\n",
       "   capital-loss  hours-per-week  native-country  \n",
       "0             0              40   United-States  \n",
       "1             0              13   United-States  \n",
       "2             0              40   United-States  \n",
       "3             0              40   United-States  \n",
       "4             0              40            Cuba  "
      ]
     },
     "metadata": {},
     "output_type": "display_data"
    }
   ],
   "source": [
    "# %load solutions/adult_classification.py\n",
    "import pandas as pd\n",
    "data = pd.read_csv(\"data/adult.csv\", index_col=0)\n",
    "data.head()\n",
    "#data['income'] = np.where(data['income']==' <=50K', 0, 1)\n",
    "income = data.income.values\n",
    "\n",
    "data_features = data.drop(\"income\", axis=1)\n",
    "display(data_features.head())\n"
   ]
  },
  {
   "cell_type": "code",
   "execution_count": 79,
   "metadata": {},
   "outputs": [
    {
     "data": {
      "text/plain": [
       "0.8736027515047291"
      ]
     },
     "execution_count": 79,
     "metadata": {},
     "output_type": "execute_result"
    }
   ],
   "source": [
    "from sklearn.tree import DecisionTreeClassifier, plot_tree\n",
    "from xgboost import XGBClassifier\n",
    "xgb = XGBClassifier()\n",
    "\n",
    "\n",
    "X_train, X_test, y_train, y_test = train_test_split(data_features, income, random_state=42)\n",
    "from sklearn.linear_model import LogisticRegression\n",
    "\n",
    "\n",
    "cat_features=data_features.columns[[1,2,4,5,6,7,8,12]]\n",
    "from sklearn.preprocessing import PowerTransformer\n",
    "\n",
    "ct = make_column_transformer((OneHotEncoder(sparse=False,handle_unknown='ignore'), cat_features),remainder=StandardScaler())\n",
    "ohe_pipe = make_pipeline(ct,PolynomialFeatures(),XGBClassifier())\n",
    "\n",
    "\n",
    "param_test1 = {\n",
    " 'max_depth':range(3,10,2),\n",
    " 'min_child_weight':range(1,6,2)\n",
    "}\n",
    "param_grid = {#'decisiontreeclassifier__max_leaf_nodes': range(2, 6),'decisiontreeclassifier__max_depth':range(1,7),\n",
    "             # 'polynomialfeatures__degree': [1, 2, 3],\n",
    "              'xgbclassifier__max_depth':range(3,10,2),\n",
    " 'xgbclassifier__min_child_weight':range(1,6,2)}\n",
    "\n",
    "\n",
    "#grid = GridSearchCV(ohe_pipe, param_grid,cv=RepeatedKFold(n_splits=10, n_repeats=10))\n",
    "\n",
    "ohe_pipe.fit(X_train, y_train)\n",
    "ohe_pipe.score(X_test, y_test)\n"
   ]
  },
  {
   "cell_type": "code",
   "execution_count": null,
   "metadata": {},
   "outputs": [],
   "source": [
    "grid.best_params_\n",
    "res = pd.DataFrame(grid.cv_results_)\n",
    "res"
   ]
  },
  {
   "cell_type": "code",
   "execution_count": null,
   "metadata": {},
   "outputs": [],
   "source": [
    "plt.plot(res.mean_test_score[:6].values, label=\"StandardScaler\")\n",
    "plt.plot(res.mean_test_score[6:].values, label=\"PowerTransformer\")\n",
    "plt.legend()"
   ]
  }
 ],
 "metadata": {
  "anaconda-cloud": {},
  "kernelspec": {
   "display_name": "Python 3",
   "language": "python",
   "name": "python3"
  },
  "language_info": {
   "codemirror_mode": {
    "name": "ipython",
    "version": 3
   },
   "file_extension": ".py",
   "mimetype": "text/x-python",
   "name": "python",
   "nbconvert_exporter": "python",
   "pygments_lexer": "ipython3",
   "version": "3.7.4"
  }
 },
 "nbformat": 4,
 "nbformat_minor": 4
}
